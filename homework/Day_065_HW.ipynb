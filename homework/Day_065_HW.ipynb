{
 "cells": [
  {
   "cell_type": "markdown",
   "metadata": {},
   "source": [
    "# 機器學習百日馬拉松Day65 "
   ]
  },
  {
   "cell_type": "markdown",
   "metadata": {},
   "source": [
    "# 作業\n",
    "* 選擇分類資料集(右下)-螺旋雙臂 - 交錯六群，限定特徵只能使用前兩個，隱藏層 2 層滿 (共 8 * 2 =16 個神經元)，  \n",
    "  遞迴次數只允許跑到500次，但可以自由調整 批次大小、學習速率、啟動函數、正規化選項與參數\n",
    "* 在上述限制下，挑戰看看測試誤差 (Test Loss) 最低能到多少? 請回答你的上述幾項參數與 Test Loss 數"
   ]
  },
  {
   "cell_type": "markdown",
   "metadata": {
    "collapsed": true
   },
   "source": []
  },
  {
   "cell_type": "markdown",
   "metadata": {
    "collapsed": true
   },
   "source": [
    "Test1\n",
    "\n",
    "test loss：0.34\n",
    "\n",
    "神經元個數：8*2 = 16個\n",
    "\n",
    "特徵：2個\n",
    "\n",
    "Learning Rate：0.03\n",
    "\n",
    "Batch size：10\n",
    "\n",
    "Activation Function：Tanh\n",
    "\n",
    "Regularization：None\n",
    "\n",
    "------------------"
   ]
  },
  {
   "cell_type": "markdown",
   "metadata": {},
   "source": [
    "Test2\n",
    "\n",
    "test loss：0.491\n",
    "\n",
    "神經元個數：8*2 = 16個\n",
    "\n",
    "特徵：2個\n",
    "\n",
    "Learning Rate：0.03\n",
    "\n",
    "Batch size：10\n",
    "\n",
    "Activation Function：Tanh\n",
    "\n",
    "Regularization：L1, 0.01\n",
    "\n",
    "------------------"
   ]
  },
  {
   "cell_type": "markdown",
   "metadata": {},
   "source": [
    "Test3\n",
    "\n",
    "test loss：0.473\n",
    "\n",
    "神經元個數：8*2 = 16個\n",
    "\n",
    "特徵：2個\n",
    "\n",
    "Learning Rate：0.03\n",
    "\n",
    "Batch size：10\n",
    "\n",
    "Activation Function：Sigmoid\n",
    "\n",
    "Regularization：None\n",
    "\n",
    "------------------"
   ]
  },
  {
   "cell_type": "markdown",
   "metadata": {},
   "source": [
    "Test4\n",
    "\n",
    "test loss：0.47\n",
    "\n",
    "神經元個數：8*2 = 16個\n",
    "\n",
    "特徵：2個\n",
    "\n",
    "Learning Rate：0.03\n",
    "\n",
    "Batch size：5\n",
    "\n",
    "Activation Function：Sigmoid\n",
    "\n",
    "Regularization：None\n",
    "\n",
    "------------------"
   ]
  },
  {
   "cell_type": "markdown",
   "metadata": {},
   "source": [
    "Test5\n",
    "\n",
    "test loss：0.316\n",
    "\n",
    "神經元個數：8*2 = 16個\n",
    "\n",
    "特徵：2個\n",
    "\n",
    "Learning Rate：0.03\n",
    "\n",
    "Batch size：5\n",
    "\n",
    "Activation Function：Tanh\n",
    "\n",
    "Regularization：None\n",
    "\n",
    "------------------"
   ]
  },
  {
   "cell_type": "markdown",
   "metadata": {},
   "source": [
    "Test6\n",
    "\n",
    "test loss：0.278\n",
    "\n",
    "神經元個數：8*2 = 16個\n",
    "\n",
    "特徵：2個\n",
    "\n",
    "Learning Rate：0.3\n",
    "\n",
    "Batch size：5\n",
    "\n",
    "Activation Function：Tanh\n",
    "\n",
    "Regularization：None\n",
    "\n",
    "------------------"
   ]
  },
  {
   "cell_type": "markdown",
   "metadata": {},
   "source": [
    "Test7\n",
    "\n",
    "test loss：0.056\n",
    "\n",
    "神經元個數：8*2 = 16個\n",
    "\n",
    "特徵：2個\n",
    "\n",
    "Learning Rate：0.1\n",
    "\n",
    "Batch size：5\n",
    "\n",
    "Activation Function：Tanh\n",
    "\n",
    "Regularization：None\n",
    "\n",
    "------------------"
   ]
  },
  {
   "cell_type": "markdown",
   "metadata": {},
   "source": [
    "Test8\n",
    "\n",
    "test loss：0.084\n",
    "\n",
    "神經元個數：8*2 = 16個\n",
    "\n",
    "特徵：2個\n",
    "\n",
    "Learning Rate：0.01\n",
    "\n",
    "Batch size：10\n",
    "\n",
    "Activation Function：Tanh\n",
    "\n",
    "Regularization：None\n",
    "\n",
    "------------------"
   ]
  },
  {
   "cell_type": "markdown",
   "metadata": {},
   "source": [
    "測試較低的誤差是0.056，批次是5，learning rate是0.1，active function是tanh"
   ]
  }
 ],
 "metadata": {
  "kernelspec": {
   "display_name": "Python 3",
   "language": "python",
   "name": "python3"
  },
  "language_info": {
   "codemirror_mode": {
    "name": "ipython",
    "version": 3
   },
   "file_extension": ".py",
   "mimetype": "text/x-python",
   "name": "python",
   "nbconvert_exporter": "python",
   "pygments_lexer": "ipython3",
   "version": "3.6.8"
  }
 },
 "nbformat": 4,
 "nbformat_minor": 2
}
