{
 "cells": [
  {
   "cell_type": "markdown",
   "metadata": {},
   "source": [
    "# 機器學習百日馬拉松 Day6"
   ]
  },
  {
   "cell_type": "markdown",
   "metadata": {},
   "source": [
    "檢視與處理 Outliers\n",
    "\n",
    "為何會有 outliers, 常見的 outlier 原因\n",
    "\n",
    "未知值，隨意填補 (約定俗成的代入)，如年齡常見 0,999\n",
    "\n",
    "可能的錯誤紀錄/手誤/系統性錯誤，如某本書在某筆訂單的銷售量 = 1000 本"
   ]
  },
  {
   "cell_type": "code",
   "execution_count": 2,
   "metadata": {},
   "outputs": [],
   "source": [
    "# Import 需要的套件\n",
    "import os\n",
    "import numpy as np\n",
    "import pandas as pd\n",
    "import matplotlib.pyplot as plt\n",
    "\n",
    "%matplotlib inline\n",
    "\n",
    "# 設定 data_path\n",
    "dir_data = './data-Part01/'"
   ]
  },
  {
   "cell_type": "code",
   "execution_count": 3,
   "metadata": {},
   "outputs": [
    {
     "name": "stdout",
     "output_type": "stream",
     "text": [
      "Path of read in data: ./data-Part01/application_train.csv\n"
     ]
    },
    {
     "data": {
      "text/html": [
       "<div>\n",
       "<style scoped>\n",
       "    .dataframe tbody tr th:only-of-type {\n",
       "        vertical-align: middle;\n",
       "    }\n",
       "\n",
       "    .dataframe tbody tr th {\n",
       "        vertical-align: top;\n",
       "    }\n",
       "\n",
       "    .dataframe thead th {\n",
       "        text-align: right;\n",
       "    }\n",
       "</style>\n",
       "<table border=\"1\" class=\"dataframe\">\n",
       "  <thead>\n",
       "    <tr style=\"text-align: right;\">\n",
       "      <th></th>\n",
       "      <th>SK_ID_CURR</th>\n",
       "      <th>TARGET</th>\n",
       "      <th>NAME_CONTRACT_TYPE</th>\n",
       "      <th>CODE_GENDER</th>\n",
       "      <th>FLAG_OWN_CAR</th>\n",
       "      <th>FLAG_OWN_REALTY</th>\n",
       "      <th>CNT_CHILDREN</th>\n",
       "      <th>AMT_INCOME_TOTAL</th>\n",
       "      <th>AMT_CREDIT</th>\n",
       "      <th>AMT_ANNUITY</th>\n",
       "      <th>...</th>\n",
       "      <th>FLAG_DOCUMENT_18</th>\n",
       "      <th>FLAG_DOCUMENT_19</th>\n",
       "      <th>FLAG_DOCUMENT_20</th>\n",
       "      <th>FLAG_DOCUMENT_21</th>\n",
       "      <th>AMT_REQ_CREDIT_BUREAU_HOUR</th>\n",
       "      <th>AMT_REQ_CREDIT_BUREAU_DAY</th>\n",
       "      <th>AMT_REQ_CREDIT_BUREAU_WEEK</th>\n",
       "      <th>AMT_REQ_CREDIT_BUREAU_MON</th>\n",
       "      <th>AMT_REQ_CREDIT_BUREAU_QRT</th>\n",
       "      <th>AMT_REQ_CREDIT_BUREAU_YEAR</th>\n",
       "    </tr>\n",
       "  </thead>\n",
       "  <tbody>\n",
       "    <tr>\n",
       "      <th>0</th>\n",
       "      <td>100002</td>\n",
       "      <td>1</td>\n",
       "      <td>Cash loans</td>\n",
       "      <td>M</td>\n",
       "      <td>N</td>\n",
       "      <td>Y</td>\n",
       "      <td>0</td>\n",
       "      <td>202500.0</td>\n",
       "      <td>406597.5</td>\n",
       "      <td>24700.5</td>\n",
       "      <td>...</td>\n",
       "      <td>0</td>\n",
       "      <td>0</td>\n",
       "      <td>0</td>\n",
       "      <td>0</td>\n",
       "      <td>0.0</td>\n",
       "      <td>0.0</td>\n",
       "      <td>0.0</td>\n",
       "      <td>0.0</td>\n",
       "      <td>0.0</td>\n",
       "      <td>1.0</td>\n",
       "    </tr>\n",
       "    <tr>\n",
       "      <th>1</th>\n",
       "      <td>100003</td>\n",
       "      <td>0</td>\n",
       "      <td>Cash loans</td>\n",
       "      <td>F</td>\n",
       "      <td>N</td>\n",
       "      <td>N</td>\n",
       "      <td>0</td>\n",
       "      <td>270000.0</td>\n",
       "      <td>1293502.5</td>\n",
       "      <td>35698.5</td>\n",
       "      <td>...</td>\n",
       "      <td>0</td>\n",
       "      <td>0</td>\n",
       "      <td>0</td>\n",
       "      <td>0</td>\n",
       "      <td>0.0</td>\n",
       "      <td>0.0</td>\n",
       "      <td>0.0</td>\n",
       "      <td>0.0</td>\n",
       "      <td>0.0</td>\n",
       "      <td>0.0</td>\n",
       "    </tr>\n",
       "    <tr>\n",
       "      <th>2</th>\n",
       "      <td>100004</td>\n",
       "      <td>0</td>\n",
       "      <td>Revolving loans</td>\n",
       "      <td>M</td>\n",
       "      <td>Y</td>\n",
       "      <td>Y</td>\n",
       "      <td>0</td>\n",
       "      <td>67500.0</td>\n",
       "      <td>135000.0</td>\n",
       "      <td>6750.0</td>\n",
       "      <td>...</td>\n",
       "      <td>0</td>\n",
       "      <td>0</td>\n",
       "      <td>0</td>\n",
       "      <td>0</td>\n",
       "      <td>0.0</td>\n",
       "      <td>0.0</td>\n",
       "      <td>0.0</td>\n",
       "      <td>0.0</td>\n",
       "      <td>0.0</td>\n",
       "      <td>0.0</td>\n",
       "    </tr>\n",
       "    <tr>\n",
       "      <th>3</th>\n",
       "      <td>100006</td>\n",
       "      <td>0</td>\n",
       "      <td>Cash loans</td>\n",
       "      <td>F</td>\n",
       "      <td>N</td>\n",
       "      <td>Y</td>\n",
       "      <td>0</td>\n",
       "      <td>135000.0</td>\n",
       "      <td>312682.5</td>\n",
       "      <td>29686.5</td>\n",
       "      <td>...</td>\n",
       "      <td>0</td>\n",
       "      <td>0</td>\n",
       "      <td>0</td>\n",
       "      <td>0</td>\n",
       "      <td>NaN</td>\n",
       "      <td>NaN</td>\n",
       "      <td>NaN</td>\n",
       "      <td>NaN</td>\n",
       "      <td>NaN</td>\n",
       "      <td>NaN</td>\n",
       "    </tr>\n",
       "    <tr>\n",
       "      <th>4</th>\n",
       "      <td>100007</td>\n",
       "      <td>0</td>\n",
       "      <td>Cash loans</td>\n",
       "      <td>M</td>\n",
       "      <td>N</td>\n",
       "      <td>Y</td>\n",
       "      <td>0</td>\n",
       "      <td>121500.0</td>\n",
       "      <td>513000.0</td>\n",
       "      <td>21865.5</td>\n",
       "      <td>...</td>\n",
       "      <td>0</td>\n",
       "      <td>0</td>\n",
       "      <td>0</td>\n",
       "      <td>0</td>\n",
       "      <td>0.0</td>\n",
       "      <td>0.0</td>\n",
       "      <td>0.0</td>\n",
       "      <td>0.0</td>\n",
       "      <td>0.0</td>\n",
       "      <td>0.0</td>\n",
       "    </tr>\n",
       "  </tbody>\n",
       "</table>\n",
       "<p>5 rows × 122 columns</p>\n",
       "</div>"
      ],
      "text/plain": [
       "   SK_ID_CURR  TARGET NAME_CONTRACT_TYPE CODE_GENDER FLAG_OWN_CAR  \\\n",
       "0      100002       1         Cash loans           M            N   \n",
       "1      100003       0         Cash loans           F            N   \n",
       "2      100004       0    Revolving loans           M            Y   \n",
       "3      100006       0         Cash loans           F            N   \n",
       "4      100007       0         Cash loans           M            N   \n",
       "\n",
       "  FLAG_OWN_REALTY  CNT_CHILDREN  AMT_INCOME_TOTAL  AMT_CREDIT  AMT_ANNUITY  \\\n",
       "0               Y             0          202500.0    406597.5      24700.5   \n",
       "1               N             0          270000.0   1293502.5      35698.5   \n",
       "2               Y             0           67500.0    135000.0       6750.0   \n",
       "3               Y             0          135000.0    312682.5      29686.5   \n",
       "4               Y             0          121500.0    513000.0      21865.5   \n",
       "\n",
       "              ...              FLAG_DOCUMENT_18 FLAG_DOCUMENT_19  \\\n",
       "0             ...                             0                0   \n",
       "1             ...                             0                0   \n",
       "2             ...                             0                0   \n",
       "3             ...                             0                0   \n",
       "4             ...                             0                0   \n",
       "\n",
       "  FLAG_DOCUMENT_20 FLAG_DOCUMENT_21 AMT_REQ_CREDIT_BUREAU_HOUR  \\\n",
       "0                0                0                        0.0   \n",
       "1                0                0                        0.0   \n",
       "2                0                0                        0.0   \n",
       "3                0                0                        NaN   \n",
       "4                0                0                        0.0   \n",
       "\n",
       "  AMT_REQ_CREDIT_BUREAU_DAY  AMT_REQ_CREDIT_BUREAU_WEEK  \\\n",
       "0                       0.0                         0.0   \n",
       "1                       0.0                         0.0   \n",
       "2                       0.0                         0.0   \n",
       "3                       NaN                         NaN   \n",
       "4                       0.0                         0.0   \n",
       "\n",
       "   AMT_REQ_CREDIT_BUREAU_MON  AMT_REQ_CREDIT_BUREAU_QRT  \\\n",
       "0                        0.0                        0.0   \n",
       "1                        0.0                        0.0   \n",
       "2                        0.0                        0.0   \n",
       "3                        NaN                        NaN   \n",
       "4                        0.0                        0.0   \n",
       "\n",
       "   AMT_REQ_CREDIT_BUREAU_YEAR  \n",
       "0                         1.0  \n",
       "1                         0.0  \n",
       "2                         0.0  \n",
       "3                         NaN  \n",
       "4                         0.0  \n",
       "\n",
       "[5 rows x 122 columns]"
      ]
     },
     "execution_count": 3,
     "metadata": {},
     "output_type": "execute_result"
    }
   ],
   "source": [
    "f_app = os.path.join(dir_data, 'application_train.csv')\n",
    "print('Path of read in data: %s' % (f_app))\n",
    "app_train = pd.read_csv(f_app)\n",
    "app_train.head()"
   ]
  },
  {
   "cell_type": "markdown",
   "metadata": {},
   "source": [
    "參考 HomeCredit_columns_description.csv 的欄位說明，觀察並列出三個你覺得可能有 outlier 的欄位並解釋可能的原因"
   ]
  },
  {
   "cell_type": "code",
   "execution_count": 15,
   "metadata": {},
   "outputs": [
    {
     "data": {
      "text/plain": [
       "SK_ID_CURR                      int64\n",
       "TARGET                          int64\n",
       "NAME_CONTRACT_TYPE             object\n",
       "CODE_GENDER                    object\n",
       "FLAG_OWN_CAR                   object\n",
       "FLAG_OWN_REALTY                object\n",
       "CNT_CHILDREN                    int64\n",
       "AMT_INCOME_TOTAL              float64\n",
       "AMT_CREDIT                    float64\n",
       "AMT_ANNUITY                   float64\n",
       "AMT_GOODS_PRICE               float64\n",
       "NAME_TYPE_SUITE                object\n",
       "NAME_INCOME_TYPE               object\n",
       "NAME_EDUCATION_TYPE            object\n",
       "NAME_FAMILY_STATUS             object\n",
       "NAME_HOUSING_TYPE              object\n",
       "REGION_POPULATION_RELATIVE    float64\n",
       "DAYS_BIRTH                      int64\n",
       "DAYS_EMPLOYED                   int64\n",
       "DAYS_REGISTRATION             float64\n",
       "DAYS_ID_PUBLISH                 int64\n",
       "OWN_CAR_AGE                   float64\n",
       "FLAG_MOBIL                      int64\n",
       "FLAG_EMP_PHONE                  int64\n",
       "FLAG_WORK_PHONE                 int64\n",
       "FLAG_CONT_MOBILE                int64\n",
       "FLAG_PHONE                      int64\n",
       "FLAG_EMAIL                      int64\n",
       "OCCUPATION_TYPE                object\n",
       "CNT_FAM_MEMBERS               float64\n",
       "                               ...   \n",
       "DEF_30_CNT_SOCIAL_CIRCLE      float64\n",
       "OBS_60_CNT_SOCIAL_CIRCLE      float64\n",
       "DEF_60_CNT_SOCIAL_CIRCLE      float64\n",
       "DAYS_LAST_PHONE_CHANGE        float64\n",
       "FLAG_DOCUMENT_2                 int64\n",
       "FLAG_DOCUMENT_3                 int64\n",
       "FLAG_DOCUMENT_4                 int64\n",
       "FLAG_DOCUMENT_5                 int64\n",
       "FLAG_DOCUMENT_6                 int64\n",
       "FLAG_DOCUMENT_7                 int64\n",
       "FLAG_DOCUMENT_8                 int64\n",
       "FLAG_DOCUMENT_9                 int64\n",
       "FLAG_DOCUMENT_10                int64\n",
       "FLAG_DOCUMENT_11                int64\n",
       "FLAG_DOCUMENT_12                int64\n",
       "FLAG_DOCUMENT_13                int64\n",
       "FLAG_DOCUMENT_14                int64\n",
       "FLAG_DOCUMENT_15                int64\n",
       "FLAG_DOCUMENT_16                int64\n",
       "FLAG_DOCUMENT_17                int64\n",
       "FLAG_DOCUMENT_18                int64\n",
       "FLAG_DOCUMENT_19                int64\n",
       "FLAG_DOCUMENT_20                int64\n",
       "FLAG_DOCUMENT_21                int64\n",
       "AMT_REQ_CREDIT_BUREAU_HOUR    float64\n",
       "AMT_REQ_CREDIT_BUREAU_DAY     float64\n",
       "AMT_REQ_CREDIT_BUREAU_WEEK    float64\n",
       "AMT_REQ_CREDIT_BUREAU_MON     float64\n",
       "AMT_REQ_CREDIT_BUREAU_QRT     float64\n",
       "AMT_REQ_CREDIT_BUREAU_YEAR    float64\n",
       "Length: 122, dtype: object"
      ]
     },
     "execution_count": 15,
     "metadata": {},
     "output_type": "execute_result"
    }
   ],
   "source": [
    "app_train.dtypes"
   ]
  },
  {
   "cell_type": "code",
   "execution_count": 4,
   "metadata": {},
   "outputs": [
    {
     "name": "stdout",
     "output_type": "stream",
     "text": [
      "106\n"
     ]
    },
    {
     "data": {
      "text/plain": [
       "['SK_ID_CURR',\n",
       " 'TARGET',\n",
       " 'CNT_CHILDREN',\n",
       " 'AMT_INCOME_TOTAL',\n",
       " 'AMT_CREDIT',\n",
       " 'AMT_ANNUITY',\n",
       " 'AMT_GOODS_PRICE',\n",
       " 'REGION_POPULATION_RELATIVE',\n",
       " 'DAYS_BIRTH',\n",
       " 'DAYS_EMPLOYED',\n",
       " 'DAYS_REGISTRATION',\n",
       " 'DAYS_ID_PUBLISH',\n",
       " 'OWN_CAR_AGE',\n",
       " 'FLAG_MOBIL',\n",
       " 'FLAG_EMP_PHONE',\n",
       " 'FLAG_WORK_PHONE',\n",
       " 'FLAG_CONT_MOBILE',\n",
       " 'FLAG_PHONE',\n",
       " 'FLAG_EMAIL',\n",
       " 'CNT_FAM_MEMBERS',\n",
       " 'REGION_RATING_CLIENT',\n",
       " 'REGION_RATING_CLIENT_W_CITY',\n",
       " 'HOUR_APPR_PROCESS_START',\n",
       " 'REG_REGION_NOT_LIVE_REGION',\n",
       " 'REG_REGION_NOT_WORK_REGION',\n",
       " 'LIVE_REGION_NOT_WORK_REGION',\n",
       " 'REG_CITY_NOT_LIVE_CITY',\n",
       " 'REG_CITY_NOT_WORK_CITY',\n",
       " 'LIVE_CITY_NOT_WORK_CITY',\n",
       " 'EXT_SOURCE_1',\n",
       " 'EXT_SOURCE_2',\n",
       " 'EXT_SOURCE_3',\n",
       " 'APARTMENTS_AVG',\n",
       " 'BASEMENTAREA_AVG',\n",
       " 'YEARS_BEGINEXPLUATATION_AVG',\n",
       " 'YEARS_BUILD_AVG',\n",
       " 'COMMONAREA_AVG',\n",
       " 'ELEVATORS_AVG',\n",
       " 'ENTRANCES_AVG',\n",
       " 'FLOORSMAX_AVG',\n",
       " 'FLOORSMIN_AVG',\n",
       " 'LANDAREA_AVG',\n",
       " 'LIVINGAPARTMENTS_AVG',\n",
       " 'LIVINGAREA_AVG',\n",
       " 'NONLIVINGAPARTMENTS_AVG',\n",
       " 'NONLIVINGAREA_AVG',\n",
       " 'APARTMENTS_MODE',\n",
       " 'BASEMENTAREA_MODE',\n",
       " 'YEARS_BEGINEXPLUATATION_MODE',\n",
       " 'YEARS_BUILD_MODE',\n",
       " 'COMMONAREA_MODE',\n",
       " 'ELEVATORS_MODE',\n",
       " 'ENTRANCES_MODE',\n",
       " 'FLOORSMAX_MODE',\n",
       " 'FLOORSMIN_MODE',\n",
       " 'LANDAREA_MODE',\n",
       " 'LIVINGAPARTMENTS_MODE',\n",
       " 'LIVINGAREA_MODE',\n",
       " 'NONLIVINGAPARTMENTS_MODE',\n",
       " 'NONLIVINGAREA_MODE',\n",
       " 'APARTMENTS_MEDI',\n",
       " 'BASEMENTAREA_MEDI',\n",
       " 'YEARS_BEGINEXPLUATATION_MEDI',\n",
       " 'YEARS_BUILD_MEDI',\n",
       " 'COMMONAREA_MEDI',\n",
       " 'ELEVATORS_MEDI',\n",
       " 'ENTRANCES_MEDI',\n",
       " 'FLOORSMAX_MEDI',\n",
       " 'FLOORSMIN_MEDI',\n",
       " 'LANDAREA_MEDI',\n",
       " 'LIVINGAPARTMENTS_MEDI',\n",
       " 'LIVINGAREA_MEDI',\n",
       " 'NONLIVINGAPARTMENTS_MEDI',\n",
       " 'NONLIVINGAREA_MEDI',\n",
       " 'TOTALAREA_MODE',\n",
       " 'OBS_30_CNT_SOCIAL_CIRCLE',\n",
       " 'DEF_30_CNT_SOCIAL_CIRCLE',\n",
       " 'OBS_60_CNT_SOCIAL_CIRCLE',\n",
       " 'DEF_60_CNT_SOCIAL_CIRCLE',\n",
       " 'DAYS_LAST_PHONE_CHANGE',\n",
       " 'FLAG_DOCUMENT_2',\n",
       " 'FLAG_DOCUMENT_3',\n",
       " 'FLAG_DOCUMENT_4',\n",
       " 'FLAG_DOCUMENT_5',\n",
       " 'FLAG_DOCUMENT_6',\n",
       " 'FLAG_DOCUMENT_7',\n",
       " 'FLAG_DOCUMENT_8',\n",
       " 'FLAG_DOCUMENT_9',\n",
       " 'FLAG_DOCUMENT_10',\n",
       " 'FLAG_DOCUMENT_11',\n",
       " 'FLAG_DOCUMENT_12',\n",
       " 'FLAG_DOCUMENT_13',\n",
       " 'FLAG_DOCUMENT_14',\n",
       " 'FLAG_DOCUMENT_15',\n",
       " 'FLAG_DOCUMENT_16',\n",
       " 'FLAG_DOCUMENT_17',\n",
       " 'FLAG_DOCUMENT_18',\n",
       " 'FLAG_DOCUMENT_19',\n",
       " 'FLAG_DOCUMENT_20',\n",
       " 'FLAG_DOCUMENT_21',\n",
       " 'AMT_REQ_CREDIT_BUREAU_HOUR',\n",
       " 'AMT_REQ_CREDIT_BUREAU_DAY',\n",
       " 'AMT_REQ_CREDIT_BUREAU_WEEK',\n",
       " 'AMT_REQ_CREDIT_BUREAU_MON',\n",
       " 'AMT_REQ_CREDIT_BUREAU_QRT',\n",
       " 'AMT_REQ_CREDIT_BUREAU_YEAR']"
      ]
     },
     "execution_count": 4,
     "metadata": {},
     "output_type": "execute_result"
    }
   ],
   "source": [
    "#先篩選數值型的欄位\n",
    "\"\"\"\n",
    "YOUR CODE HERE, fill correct data types (for example str, float, int, ...)\n",
    "\"\"\"\n",
    "\n",
    "dtype_select = [np.dtype('int64'), np.dtype('float64')]\n",
    "\n",
    "numeric_columns = list(app_train.columns[list(app_train.dtypes.isin(dtype_select))])\n",
    "print(len(numeric_columns))\n",
    "numeric_columns"
   ]
  },
  {
   "cell_type": "code",
   "execution_count": 5,
   "metadata": {},
   "outputs": [
    {
     "name": "stdout",
     "output_type": "stream",
     "text": [
      "Numbers of remain columns: 73\n"
     ]
    },
    {
     "data": {
      "text/plain": [
       "['SK_ID_CURR',\n",
       " 'CNT_CHILDREN',\n",
       " 'AMT_INCOME_TOTAL',\n",
       " 'AMT_CREDIT',\n",
       " 'AMT_ANNUITY',\n",
       " 'AMT_GOODS_PRICE',\n",
       " 'REGION_POPULATION_RELATIVE',\n",
       " 'DAYS_BIRTH',\n",
       " 'DAYS_EMPLOYED',\n",
       " 'DAYS_REGISTRATION',\n",
       " 'DAYS_ID_PUBLISH',\n",
       " 'OWN_CAR_AGE',\n",
       " 'CNT_FAM_MEMBERS',\n",
       " 'REGION_RATING_CLIENT',\n",
       " 'REGION_RATING_CLIENT_W_CITY',\n",
       " 'HOUR_APPR_PROCESS_START',\n",
       " 'EXT_SOURCE_1',\n",
       " 'EXT_SOURCE_2',\n",
       " 'EXT_SOURCE_3',\n",
       " 'APARTMENTS_AVG',\n",
       " 'BASEMENTAREA_AVG',\n",
       " 'YEARS_BEGINEXPLUATATION_AVG',\n",
       " 'YEARS_BUILD_AVG',\n",
       " 'COMMONAREA_AVG',\n",
       " 'ELEVATORS_AVG',\n",
       " 'ENTRANCES_AVG',\n",
       " 'FLOORSMAX_AVG',\n",
       " 'FLOORSMIN_AVG',\n",
       " 'LANDAREA_AVG',\n",
       " 'LIVINGAPARTMENTS_AVG',\n",
       " 'LIVINGAREA_AVG',\n",
       " 'NONLIVINGAPARTMENTS_AVG',\n",
       " 'NONLIVINGAREA_AVG',\n",
       " 'APARTMENTS_MODE',\n",
       " 'BASEMENTAREA_MODE',\n",
       " 'YEARS_BEGINEXPLUATATION_MODE',\n",
       " 'YEARS_BUILD_MODE',\n",
       " 'COMMONAREA_MODE',\n",
       " 'ELEVATORS_MODE',\n",
       " 'ENTRANCES_MODE',\n",
       " 'FLOORSMAX_MODE',\n",
       " 'FLOORSMIN_MODE',\n",
       " 'LANDAREA_MODE',\n",
       " 'LIVINGAPARTMENTS_MODE',\n",
       " 'LIVINGAREA_MODE',\n",
       " 'NONLIVINGAPARTMENTS_MODE',\n",
       " 'NONLIVINGAREA_MODE',\n",
       " 'APARTMENTS_MEDI',\n",
       " 'BASEMENTAREA_MEDI',\n",
       " 'YEARS_BEGINEXPLUATATION_MEDI',\n",
       " 'YEARS_BUILD_MEDI',\n",
       " 'COMMONAREA_MEDI',\n",
       " 'ELEVATORS_MEDI',\n",
       " 'ENTRANCES_MEDI',\n",
       " 'FLOORSMAX_MEDI',\n",
       " 'FLOORSMIN_MEDI',\n",
       " 'LANDAREA_MEDI',\n",
       " 'LIVINGAPARTMENTS_MEDI',\n",
       " 'LIVINGAREA_MEDI',\n",
       " 'NONLIVINGAPARTMENTS_MEDI',\n",
       " 'NONLIVINGAREA_MEDI',\n",
       " 'TOTALAREA_MODE',\n",
       " 'OBS_30_CNT_SOCIAL_CIRCLE',\n",
       " 'DEF_30_CNT_SOCIAL_CIRCLE',\n",
       " 'OBS_60_CNT_SOCIAL_CIRCLE',\n",
       " 'DEF_60_CNT_SOCIAL_CIRCLE',\n",
       " 'DAYS_LAST_PHONE_CHANGE',\n",
       " 'AMT_REQ_CREDIT_BUREAU_HOUR',\n",
       " 'AMT_REQ_CREDIT_BUREAU_DAY',\n",
       " 'AMT_REQ_CREDIT_BUREAU_WEEK',\n",
       " 'AMT_REQ_CREDIT_BUREAU_MON',\n",
       " 'AMT_REQ_CREDIT_BUREAU_QRT',\n",
       " 'AMT_REQ_CREDIT_BUREAU_YEAR']"
      ]
     },
     "execution_count": 5,
     "metadata": {},
     "output_type": "execute_result"
    }
   ],
   "source": [
    "#再把只有 2 值 (通常是 0,1) 的欄位去掉\n",
    "numeric_columns = list(app_train[numeric_columns].columns[list(app_train[numeric_columns].apply(lambda x:len(x.unique())!=2 ))])\n",
    "print(\"Numbers of remain columns:\", len(numeric_columns))\n",
    "numeric_columns"
   ]
  },
  {
   "cell_type": "code",
   "execution_count": 6,
   "metadata": {},
   "outputs": [
    {
     "data": {
      "text/html": [
       "<div>\n",
       "<style scoped>\n",
       "    .dataframe tbody tr th:only-of-type {\n",
       "        vertical-align: middle;\n",
       "    }\n",
       "\n",
       "    .dataframe tbody tr th {\n",
       "        vertical-align: top;\n",
       "    }\n",
       "\n",
       "    .dataframe thead th {\n",
       "        text-align: right;\n",
       "    }\n",
       "</style>\n",
       "<table border=\"1\" class=\"dataframe\">\n",
       "  <thead>\n",
       "    <tr style=\"text-align: right;\">\n",
       "      <th></th>\n",
       "      <th>SK_ID_CURR</th>\n",
       "      <th>CNT_CHILDREN</th>\n",
       "      <th>AMT_INCOME_TOTAL</th>\n",
       "      <th>AMT_CREDIT</th>\n",
       "      <th>AMT_ANNUITY</th>\n",
       "      <th>AMT_GOODS_PRICE</th>\n",
       "      <th>REGION_POPULATION_RELATIVE</th>\n",
       "      <th>DAYS_BIRTH</th>\n",
       "      <th>DAYS_EMPLOYED</th>\n",
       "      <th>DAYS_REGISTRATION</th>\n",
       "      <th>...</th>\n",
       "      <th>DEF_30_CNT_SOCIAL_CIRCLE</th>\n",
       "      <th>OBS_60_CNT_SOCIAL_CIRCLE</th>\n",
       "      <th>DEF_60_CNT_SOCIAL_CIRCLE</th>\n",
       "      <th>DAYS_LAST_PHONE_CHANGE</th>\n",
       "      <th>AMT_REQ_CREDIT_BUREAU_HOUR</th>\n",
       "      <th>AMT_REQ_CREDIT_BUREAU_DAY</th>\n",
       "      <th>AMT_REQ_CREDIT_BUREAU_WEEK</th>\n",
       "      <th>AMT_REQ_CREDIT_BUREAU_MON</th>\n",
       "      <th>AMT_REQ_CREDIT_BUREAU_QRT</th>\n",
       "      <th>AMT_REQ_CREDIT_BUREAU_YEAR</th>\n",
       "    </tr>\n",
       "  </thead>\n",
       "  <tbody>\n",
       "    <tr>\n",
       "      <th>0</th>\n",
       "      <td>100002</td>\n",
       "      <td>0</td>\n",
       "      <td>202500.000</td>\n",
       "      <td>406597.5</td>\n",
       "      <td>24700.5</td>\n",
       "      <td>351000.0</td>\n",
       "      <td>0.018801</td>\n",
       "      <td>-9461</td>\n",
       "      <td>-637</td>\n",
       "      <td>-3648.0</td>\n",
       "      <td>...</td>\n",
       "      <td>2.0</td>\n",
       "      <td>2.0</td>\n",
       "      <td>2.0</td>\n",
       "      <td>-1134.0</td>\n",
       "      <td>0.0</td>\n",
       "      <td>0.0</td>\n",
       "      <td>0.0</td>\n",
       "      <td>0.0</td>\n",
       "      <td>0.0</td>\n",
       "      <td>1.0</td>\n",
       "    </tr>\n",
       "    <tr>\n",
       "      <th>1</th>\n",
       "      <td>100003</td>\n",
       "      <td>0</td>\n",
       "      <td>270000.000</td>\n",
       "      <td>1293502.5</td>\n",
       "      <td>35698.5</td>\n",
       "      <td>1129500.0</td>\n",
       "      <td>0.003541</td>\n",
       "      <td>-16765</td>\n",
       "      <td>-1188</td>\n",
       "      <td>-1186.0</td>\n",
       "      <td>...</td>\n",
       "      <td>0.0</td>\n",
       "      <td>1.0</td>\n",
       "      <td>0.0</td>\n",
       "      <td>-828.0</td>\n",
       "      <td>0.0</td>\n",
       "      <td>0.0</td>\n",
       "      <td>0.0</td>\n",
       "      <td>0.0</td>\n",
       "      <td>0.0</td>\n",
       "      <td>0.0</td>\n",
       "    </tr>\n",
       "    <tr>\n",
       "      <th>2</th>\n",
       "      <td>100004</td>\n",
       "      <td>0</td>\n",
       "      <td>67500.000</td>\n",
       "      <td>135000.0</td>\n",
       "      <td>6750.0</td>\n",
       "      <td>135000.0</td>\n",
       "      <td>0.010032</td>\n",
       "      <td>-19046</td>\n",
       "      <td>-225</td>\n",
       "      <td>-4260.0</td>\n",
       "      <td>...</td>\n",
       "      <td>0.0</td>\n",
       "      <td>0.0</td>\n",
       "      <td>0.0</td>\n",
       "      <td>-815.0</td>\n",
       "      <td>0.0</td>\n",
       "      <td>0.0</td>\n",
       "      <td>0.0</td>\n",
       "      <td>0.0</td>\n",
       "      <td>0.0</td>\n",
       "      <td>0.0</td>\n",
       "    </tr>\n",
       "    <tr>\n",
       "      <th>3</th>\n",
       "      <td>100006</td>\n",
       "      <td>0</td>\n",
       "      <td>135000.000</td>\n",
       "      <td>312682.5</td>\n",
       "      <td>29686.5</td>\n",
       "      <td>297000.0</td>\n",
       "      <td>0.008019</td>\n",
       "      <td>-19005</td>\n",
       "      <td>-3039</td>\n",
       "      <td>-9833.0</td>\n",
       "      <td>...</td>\n",
       "      <td>0.0</td>\n",
       "      <td>2.0</td>\n",
       "      <td>0.0</td>\n",
       "      <td>-617.0</td>\n",
       "      <td>NaN</td>\n",
       "      <td>NaN</td>\n",
       "      <td>NaN</td>\n",
       "      <td>NaN</td>\n",
       "      <td>NaN</td>\n",
       "      <td>NaN</td>\n",
       "    </tr>\n",
       "    <tr>\n",
       "      <th>4</th>\n",
       "      <td>100007</td>\n",
       "      <td>0</td>\n",
       "      <td>121500.000</td>\n",
       "      <td>513000.0</td>\n",
       "      <td>21865.5</td>\n",
       "      <td>513000.0</td>\n",
       "      <td>0.028663</td>\n",
       "      <td>-19932</td>\n",
       "      <td>-3038</td>\n",
       "      <td>-4311.0</td>\n",
       "      <td>...</td>\n",
       "      <td>0.0</td>\n",
       "      <td>0.0</td>\n",
       "      <td>0.0</td>\n",
       "      <td>-1106.0</td>\n",
       "      <td>0.0</td>\n",
       "      <td>0.0</td>\n",
       "      <td>0.0</td>\n",
       "      <td>0.0</td>\n",
       "      <td>0.0</td>\n",
       "      <td>0.0</td>\n",
       "    </tr>\n",
       "    <tr>\n",
       "      <th>5</th>\n",
       "      <td>100008</td>\n",
       "      <td>0</td>\n",
       "      <td>99000.000</td>\n",
       "      <td>490495.5</td>\n",
       "      <td>27517.5</td>\n",
       "      <td>454500.0</td>\n",
       "      <td>0.035792</td>\n",
       "      <td>-16941</td>\n",
       "      <td>-1588</td>\n",
       "      <td>-4970.0</td>\n",
       "      <td>...</td>\n",
       "      <td>0.0</td>\n",
       "      <td>0.0</td>\n",
       "      <td>0.0</td>\n",
       "      <td>-2536.0</td>\n",
       "      <td>0.0</td>\n",
       "      <td>0.0</td>\n",
       "      <td>0.0</td>\n",
       "      <td>0.0</td>\n",
       "      <td>1.0</td>\n",
       "      <td>1.0</td>\n",
       "    </tr>\n",
       "    <tr>\n",
       "      <th>6</th>\n",
       "      <td>100009</td>\n",
       "      <td>1</td>\n",
       "      <td>171000.000</td>\n",
       "      <td>1560726.0</td>\n",
       "      <td>41301.0</td>\n",
       "      <td>1395000.0</td>\n",
       "      <td>0.035792</td>\n",
       "      <td>-13778</td>\n",
       "      <td>-3130</td>\n",
       "      <td>-1213.0</td>\n",
       "      <td>...</td>\n",
       "      <td>0.0</td>\n",
       "      <td>1.0</td>\n",
       "      <td>0.0</td>\n",
       "      <td>-1562.0</td>\n",
       "      <td>0.0</td>\n",
       "      <td>0.0</td>\n",
       "      <td>0.0</td>\n",
       "      <td>1.0</td>\n",
       "      <td>1.0</td>\n",
       "      <td>2.0</td>\n",
       "    </tr>\n",
       "    <tr>\n",
       "      <th>7</th>\n",
       "      <td>100010</td>\n",
       "      <td>0</td>\n",
       "      <td>360000.000</td>\n",
       "      <td>1530000.0</td>\n",
       "      <td>42075.0</td>\n",
       "      <td>1530000.0</td>\n",
       "      <td>0.003122</td>\n",
       "      <td>-18850</td>\n",
       "      <td>-449</td>\n",
       "      <td>-4597.0</td>\n",
       "      <td>...</td>\n",
       "      <td>0.0</td>\n",
       "      <td>2.0</td>\n",
       "      <td>0.0</td>\n",
       "      <td>-1070.0</td>\n",
       "      <td>0.0</td>\n",
       "      <td>0.0</td>\n",
       "      <td>0.0</td>\n",
       "      <td>0.0</td>\n",
       "      <td>0.0</td>\n",
       "      <td>0.0</td>\n",
       "    </tr>\n",
       "    <tr>\n",
       "      <th>8</th>\n",
       "      <td>100011</td>\n",
       "      <td>0</td>\n",
       "      <td>112500.000</td>\n",
       "      <td>1019610.0</td>\n",
       "      <td>33826.5</td>\n",
       "      <td>913500.0</td>\n",
       "      <td>0.018634</td>\n",
       "      <td>-20099</td>\n",
       "      <td>365243</td>\n",
       "      <td>-7427.0</td>\n",
       "      <td>...</td>\n",
       "      <td>0.0</td>\n",
       "      <td>1.0</td>\n",
       "      <td>0.0</td>\n",
       "      <td>0.0</td>\n",
       "      <td>0.0</td>\n",
       "      <td>0.0</td>\n",
       "      <td>0.0</td>\n",
       "      <td>0.0</td>\n",
       "      <td>0.0</td>\n",
       "      <td>1.0</td>\n",
       "    </tr>\n",
       "    <tr>\n",
       "      <th>9</th>\n",
       "      <td>100012</td>\n",
       "      <td>0</td>\n",
       "      <td>135000.000</td>\n",
       "      <td>405000.0</td>\n",
       "      <td>20250.0</td>\n",
       "      <td>405000.0</td>\n",
       "      <td>0.019689</td>\n",
       "      <td>-14469</td>\n",
       "      <td>-2019</td>\n",
       "      <td>-14437.0</td>\n",
       "      <td>...</td>\n",
       "      <td>0.0</td>\n",
       "      <td>2.0</td>\n",
       "      <td>0.0</td>\n",
       "      <td>-1673.0</td>\n",
       "      <td>NaN</td>\n",
       "      <td>NaN</td>\n",
       "      <td>NaN</td>\n",
       "      <td>NaN</td>\n",
       "      <td>NaN</td>\n",
       "      <td>NaN</td>\n",
       "    </tr>\n",
       "    <tr>\n",
       "      <th>10</th>\n",
       "      <td>100014</td>\n",
       "      <td>1</td>\n",
       "      <td>112500.000</td>\n",
       "      <td>652500.0</td>\n",
       "      <td>21177.0</td>\n",
       "      <td>652500.0</td>\n",
       "      <td>0.022800</td>\n",
       "      <td>-10197</td>\n",
       "      <td>-679</td>\n",
       "      <td>-4427.0</td>\n",
       "      <td>...</td>\n",
       "      <td>0.0</td>\n",
       "      <td>0.0</td>\n",
       "      <td>0.0</td>\n",
       "      <td>-844.0</td>\n",
       "      <td>0.0</td>\n",
       "      <td>0.0</td>\n",
       "      <td>0.0</td>\n",
       "      <td>1.0</td>\n",
       "      <td>0.0</td>\n",
       "      <td>0.0</td>\n",
       "    </tr>\n",
       "    <tr>\n",
       "      <th>11</th>\n",
       "      <td>100015</td>\n",
       "      <td>0</td>\n",
       "      <td>38419.155</td>\n",
       "      <td>148365.0</td>\n",
       "      <td>10678.5</td>\n",
       "      <td>135000.0</td>\n",
       "      <td>0.015221</td>\n",
       "      <td>-20417</td>\n",
       "      <td>365243</td>\n",
       "      <td>-5246.0</td>\n",
       "      <td>...</td>\n",
       "      <td>0.0</td>\n",
       "      <td>0.0</td>\n",
       "      <td>0.0</td>\n",
       "      <td>-2396.0</td>\n",
       "      <td>0.0</td>\n",
       "      <td>0.0</td>\n",
       "      <td>0.0</td>\n",
       "      <td>0.0</td>\n",
       "      <td>0.0</td>\n",
       "      <td>2.0</td>\n",
       "    </tr>\n",
       "    <tr>\n",
       "      <th>12</th>\n",
       "      <td>100016</td>\n",
       "      <td>0</td>\n",
       "      <td>67500.000</td>\n",
       "      <td>80865.0</td>\n",
       "      <td>5881.5</td>\n",
       "      <td>67500.0</td>\n",
       "      <td>0.031329</td>\n",
       "      <td>-13439</td>\n",
       "      <td>-2717</td>\n",
       "      <td>-311.0</td>\n",
       "      <td>...</td>\n",
       "      <td>0.0</td>\n",
       "      <td>0.0</td>\n",
       "      <td>0.0</td>\n",
       "      <td>-2370.0</td>\n",
       "      <td>0.0</td>\n",
       "      <td>0.0</td>\n",
       "      <td>0.0</td>\n",
       "      <td>1.0</td>\n",
       "      <td>0.0</td>\n",
       "      <td>0.0</td>\n",
       "    </tr>\n",
       "    <tr>\n",
       "      <th>13</th>\n",
       "      <td>100017</td>\n",
       "      <td>1</td>\n",
       "      <td>225000.000</td>\n",
       "      <td>918468.0</td>\n",
       "      <td>28966.5</td>\n",
       "      <td>697500.0</td>\n",
       "      <td>0.016612</td>\n",
       "      <td>-14086</td>\n",
       "      <td>-3028</td>\n",
       "      <td>-643.0</td>\n",
       "      <td>...</td>\n",
       "      <td>0.0</td>\n",
       "      <td>0.0</td>\n",
       "      <td>0.0</td>\n",
       "      <td>-4.0</td>\n",
       "      <td>0.0</td>\n",
       "      <td>0.0</td>\n",
       "      <td>0.0</td>\n",
       "      <td>0.0</td>\n",
       "      <td>0.0</td>\n",
       "      <td>1.0</td>\n",
       "    </tr>\n",
       "    <tr>\n",
       "      <th>14</th>\n",
       "      <td>100018</td>\n",
       "      <td>0</td>\n",
       "      <td>189000.000</td>\n",
       "      <td>773680.5</td>\n",
       "      <td>32778.0</td>\n",
       "      <td>679500.0</td>\n",
       "      <td>0.010006</td>\n",
       "      <td>-14583</td>\n",
       "      <td>-203</td>\n",
       "      <td>-615.0</td>\n",
       "      <td>...</td>\n",
       "      <td>0.0</td>\n",
       "      <td>0.0</td>\n",
       "      <td>0.0</td>\n",
       "      <td>-188.0</td>\n",
       "      <td>NaN</td>\n",
       "      <td>NaN</td>\n",
       "      <td>NaN</td>\n",
       "      <td>NaN</td>\n",
       "      <td>NaN</td>\n",
       "      <td>NaN</td>\n",
       "    </tr>\n",
       "    <tr>\n",
       "      <th>15</th>\n",
       "      <td>100019</td>\n",
       "      <td>0</td>\n",
       "      <td>157500.000</td>\n",
       "      <td>299772.0</td>\n",
       "      <td>20160.0</td>\n",
       "      <td>247500.0</td>\n",
       "      <td>0.020713</td>\n",
       "      <td>-8728</td>\n",
       "      <td>-1157</td>\n",
       "      <td>-3494.0</td>\n",
       "      <td>...</td>\n",
       "      <td>0.0</td>\n",
       "      <td>0.0</td>\n",
       "      <td>0.0</td>\n",
       "      <td>-925.0</td>\n",
       "      <td>0.0</td>\n",
       "      <td>0.0</td>\n",
       "      <td>0.0</td>\n",
       "      <td>0.0</td>\n",
       "      <td>0.0</td>\n",
       "      <td>1.0</td>\n",
       "    </tr>\n",
       "    <tr>\n",
       "      <th>16</th>\n",
       "      <td>100020</td>\n",
       "      <td>0</td>\n",
       "      <td>108000.000</td>\n",
       "      <td>509602.5</td>\n",
       "      <td>26149.5</td>\n",
       "      <td>387000.0</td>\n",
       "      <td>0.018634</td>\n",
       "      <td>-12931</td>\n",
       "      <td>-1317</td>\n",
       "      <td>-6392.0</td>\n",
       "      <td>...</td>\n",
       "      <td>0.0</td>\n",
       "      <td>0.0</td>\n",
       "      <td>0.0</td>\n",
       "      <td>-3.0</td>\n",
       "      <td>0.0</td>\n",
       "      <td>0.0</td>\n",
       "      <td>0.0</td>\n",
       "      <td>0.0</td>\n",
       "      <td>1.0</td>\n",
       "      <td>0.0</td>\n",
       "    </tr>\n",
       "    <tr>\n",
       "      <th>17</th>\n",
       "      <td>100021</td>\n",
       "      <td>1</td>\n",
       "      <td>81000.000</td>\n",
       "      <td>270000.0</td>\n",
       "      <td>13500.0</td>\n",
       "      <td>270000.0</td>\n",
       "      <td>0.010966</td>\n",
       "      <td>-9776</td>\n",
       "      <td>-191</td>\n",
       "      <td>-4143.0</td>\n",
       "      <td>...</td>\n",
       "      <td>0.0</td>\n",
       "      <td>4.0</td>\n",
       "      <td>0.0</td>\n",
       "      <td>-2811.0</td>\n",
       "      <td>NaN</td>\n",
       "      <td>NaN</td>\n",
       "      <td>NaN</td>\n",
       "      <td>NaN</td>\n",
       "      <td>NaN</td>\n",
       "      <td>NaN</td>\n",
       "    </tr>\n",
       "    <tr>\n",
       "      <th>18</th>\n",
       "      <td>100022</td>\n",
       "      <td>0</td>\n",
       "      <td>112500.000</td>\n",
       "      <td>157500.0</td>\n",
       "      <td>7875.0</td>\n",
       "      <td>157500.0</td>\n",
       "      <td>0.046220</td>\n",
       "      <td>-17718</td>\n",
       "      <td>-7804</td>\n",
       "      <td>-8751.0</td>\n",
       "      <td>...</td>\n",
       "      <td>0.0</td>\n",
       "      <td>8.0</td>\n",
       "      <td>0.0</td>\n",
       "      <td>-239.0</td>\n",
       "      <td>0.0</td>\n",
       "      <td>0.0</td>\n",
       "      <td>0.0</td>\n",
       "      <td>0.0</td>\n",
       "      <td>0.0</td>\n",
       "      <td>0.0</td>\n",
       "    </tr>\n",
       "    <tr>\n",
       "      <th>19</th>\n",
       "      <td>100023</td>\n",
       "      <td>1</td>\n",
       "      <td>90000.000</td>\n",
       "      <td>544491.0</td>\n",
       "      <td>17563.5</td>\n",
       "      <td>454500.0</td>\n",
       "      <td>0.015221</td>\n",
       "      <td>-11348</td>\n",
       "      <td>-2038</td>\n",
       "      <td>-1021.0</td>\n",
       "      <td>...</td>\n",
       "      <td>0.0</td>\n",
       "      <td>0.0</td>\n",
       "      <td>0.0</td>\n",
       "      <td>-1850.0</td>\n",
       "      <td>0.0</td>\n",
       "      <td>0.0</td>\n",
       "      <td>0.0</td>\n",
       "      <td>0.0</td>\n",
       "      <td>0.0</td>\n",
       "      <td>2.0</td>\n",
       "    </tr>\n",
       "    <tr>\n",
       "      <th>20</th>\n",
       "      <td>100024</td>\n",
       "      <td>0</td>\n",
       "      <td>135000.000</td>\n",
       "      <td>427500.0</td>\n",
       "      <td>21375.0</td>\n",
       "      <td>427500.0</td>\n",
       "      <td>0.015221</td>\n",
       "      <td>-18252</td>\n",
       "      <td>-4286</td>\n",
       "      <td>-298.0</td>\n",
       "      <td>...</td>\n",
       "      <td>0.0</td>\n",
       "      <td>0.0</td>\n",
       "      <td>0.0</td>\n",
       "      <td>-296.0</td>\n",
       "      <td>NaN</td>\n",
       "      <td>NaN</td>\n",
       "      <td>NaN</td>\n",
       "      <td>NaN</td>\n",
       "      <td>NaN</td>\n",
       "      <td>NaN</td>\n",
       "    </tr>\n",
       "    <tr>\n",
       "      <th>21</th>\n",
       "      <td>100025</td>\n",
       "      <td>1</td>\n",
       "      <td>202500.000</td>\n",
       "      <td>1132573.5</td>\n",
       "      <td>37561.5</td>\n",
       "      <td>927000.0</td>\n",
       "      <td>0.025164</td>\n",
       "      <td>-14815</td>\n",
       "      <td>-1652</td>\n",
       "      <td>-2299.0</td>\n",
       "      <td>...</td>\n",
       "      <td>0.0</td>\n",
       "      <td>0.0</td>\n",
       "      <td>0.0</td>\n",
       "      <td>0.0</td>\n",
       "      <td>0.0</td>\n",
       "      <td>0.0</td>\n",
       "      <td>0.0</td>\n",
       "      <td>0.0</td>\n",
       "      <td>1.0</td>\n",
       "      <td>4.0</td>\n",
       "    </tr>\n",
       "    <tr>\n",
       "      <th>22</th>\n",
       "      <td>100026</td>\n",
       "      <td>1</td>\n",
       "      <td>450000.000</td>\n",
       "      <td>497520.0</td>\n",
       "      <td>32521.5</td>\n",
       "      <td>450000.0</td>\n",
       "      <td>0.020713</td>\n",
       "      <td>-11146</td>\n",
       "      <td>-4306</td>\n",
       "      <td>-114.0</td>\n",
       "      <td>...</td>\n",
       "      <td>0.0</td>\n",
       "      <td>0.0</td>\n",
       "      <td>0.0</td>\n",
       "      <td>-468.0</td>\n",
       "      <td>0.0</td>\n",
       "      <td>0.0</td>\n",
       "      <td>0.0</td>\n",
       "      <td>0.0</td>\n",
       "      <td>0.0</td>\n",
       "      <td>5.0</td>\n",
       "    </tr>\n",
       "    <tr>\n",
       "      <th>23</th>\n",
       "      <td>100027</td>\n",
       "      <td>0</td>\n",
       "      <td>83250.000</td>\n",
       "      <td>239850.0</td>\n",
       "      <td>23850.0</td>\n",
       "      <td>225000.0</td>\n",
       "      <td>0.006296</td>\n",
       "      <td>-24827</td>\n",
       "      <td>365243</td>\n",
       "      <td>-9012.0</td>\n",
       "      <td>...</td>\n",
       "      <td>0.0</td>\n",
       "      <td>0.0</td>\n",
       "      <td>0.0</td>\n",
       "      <td>-795.0</td>\n",
       "      <td>0.0</td>\n",
       "      <td>0.0</td>\n",
       "      <td>0.0</td>\n",
       "      <td>0.0</td>\n",
       "      <td>0.0</td>\n",
       "      <td>3.0</td>\n",
       "    </tr>\n",
       "    <tr>\n",
       "      <th>24</th>\n",
       "      <td>100029</td>\n",
       "      <td>2</td>\n",
       "      <td>135000.000</td>\n",
       "      <td>247500.0</td>\n",
       "      <td>12703.5</td>\n",
       "      <td>247500.0</td>\n",
       "      <td>0.026392</td>\n",
       "      <td>-11286</td>\n",
       "      <td>-746</td>\n",
       "      <td>-108.0</td>\n",
       "      <td>...</td>\n",
       "      <td>1.0</td>\n",
       "      <td>1.0</td>\n",
       "      <td>0.0</td>\n",
       "      <td>-4.0</td>\n",
       "      <td>0.0</td>\n",
       "      <td>0.0</td>\n",
       "      <td>0.0</td>\n",
       "      <td>0.0</td>\n",
       "      <td>0.0</td>\n",
       "      <td>0.0</td>\n",
       "    </tr>\n",
       "    <tr>\n",
       "      <th>25</th>\n",
       "      <td>100030</td>\n",
       "      <td>0</td>\n",
       "      <td>90000.000</td>\n",
       "      <td>225000.0</td>\n",
       "      <td>11074.5</td>\n",
       "      <td>225000.0</td>\n",
       "      <td>0.028663</td>\n",
       "      <td>-19334</td>\n",
       "      <td>-3494</td>\n",
       "      <td>-2419.0</td>\n",
       "      <td>...</td>\n",
       "      <td>0.0</td>\n",
       "      <td>0.0</td>\n",
       "      <td>0.0</td>\n",
       "      <td>0.0</td>\n",
       "      <td>0.0</td>\n",
       "      <td>0.0</td>\n",
       "      <td>0.0</td>\n",
       "      <td>0.0</td>\n",
       "      <td>0.0</td>\n",
       "      <td>0.0</td>\n",
       "    </tr>\n",
       "    <tr>\n",
       "      <th>26</th>\n",
       "      <td>100031</td>\n",
       "      <td>0</td>\n",
       "      <td>112500.000</td>\n",
       "      <td>979992.0</td>\n",
       "      <td>27076.5</td>\n",
       "      <td>702000.0</td>\n",
       "      <td>0.018029</td>\n",
       "      <td>-18724</td>\n",
       "      <td>-2628</td>\n",
       "      <td>-6573.0</td>\n",
       "      <td>...</td>\n",
       "      <td>1.0</td>\n",
       "      <td>10.0</td>\n",
       "      <td>0.0</td>\n",
       "      <td>-161.0</td>\n",
       "      <td>0.0</td>\n",
       "      <td>0.0</td>\n",
       "      <td>0.0</td>\n",
       "      <td>0.0</td>\n",
       "      <td>2.0</td>\n",
       "      <td>2.0</td>\n",
       "    </tr>\n",
       "    <tr>\n",
       "      <th>27</th>\n",
       "      <td>100032</td>\n",
       "      <td>1</td>\n",
       "      <td>112500.000</td>\n",
       "      <td>327024.0</td>\n",
       "      <td>23827.5</td>\n",
       "      <td>270000.0</td>\n",
       "      <td>0.019101</td>\n",
       "      <td>-15948</td>\n",
       "      <td>-1234</td>\n",
       "      <td>-5782.0</td>\n",
       "      <td>...</td>\n",
       "      <td>0.0</td>\n",
       "      <td>2.0</td>\n",
       "      <td>0.0</td>\n",
       "      <td>-2.0</td>\n",
       "      <td>0.0</td>\n",
       "      <td>0.0</td>\n",
       "      <td>0.0</td>\n",
       "      <td>0.0</td>\n",
       "      <td>0.0</td>\n",
       "      <td>0.0</td>\n",
       "    </tr>\n",
       "    <tr>\n",
       "      <th>28</th>\n",
       "      <td>100033</td>\n",
       "      <td>0</td>\n",
       "      <td>270000.000</td>\n",
       "      <td>790830.0</td>\n",
       "      <td>57676.5</td>\n",
       "      <td>675000.0</td>\n",
       "      <td>0.046220</td>\n",
       "      <td>-9994</td>\n",
       "      <td>-1796</td>\n",
       "      <td>-4668.0</td>\n",
       "      <td>...</td>\n",
       "      <td>0.0</td>\n",
       "      <td>0.0</td>\n",
       "      <td>0.0</td>\n",
       "      <td>-849.0</td>\n",
       "      <td>0.0</td>\n",
       "      <td>0.0</td>\n",
       "      <td>0.0</td>\n",
       "      <td>1.0</td>\n",
       "      <td>0.0</td>\n",
       "      <td>1.0</td>\n",
       "    </tr>\n",
       "    <tr>\n",
       "      <th>29</th>\n",
       "      <td>100034</td>\n",
       "      <td>0</td>\n",
       "      <td>90000.000</td>\n",
       "      <td>180000.0</td>\n",
       "      <td>9000.0</td>\n",
       "      <td>180000.0</td>\n",
       "      <td>0.030755</td>\n",
       "      <td>-10341</td>\n",
       "      <td>-1010</td>\n",
       "      <td>-4799.0</td>\n",
       "      <td>...</td>\n",
       "      <td>0.0</td>\n",
       "      <td>0.0</td>\n",
       "      <td>0.0</td>\n",
       "      <td>-599.0</td>\n",
       "      <td>NaN</td>\n",
       "      <td>NaN</td>\n",
       "      <td>NaN</td>\n",
       "      <td>NaN</td>\n",
       "      <td>NaN</td>\n",
       "      <td>NaN</td>\n",
       "    </tr>\n",
       "    <tr>\n",
       "      <th>...</th>\n",
       "      <td>...</td>\n",
       "      <td>...</td>\n",
       "      <td>...</td>\n",
       "      <td>...</td>\n",
       "      <td>...</td>\n",
       "      <td>...</td>\n",
       "      <td>...</td>\n",
       "      <td>...</td>\n",
       "      <td>...</td>\n",
       "      <td>...</td>\n",
       "      <td>...</td>\n",
       "      <td>...</td>\n",
       "      <td>...</td>\n",
       "      <td>...</td>\n",
       "      <td>...</td>\n",
       "      <td>...</td>\n",
       "      <td>...</td>\n",
       "      <td>...</td>\n",
       "      <td>...</td>\n",
       "      <td>...</td>\n",
       "      <td>...</td>\n",
       "    </tr>\n",
       "    <tr>\n",
       "      <th>307481</th>\n",
       "      <td>456225</td>\n",
       "      <td>0</td>\n",
       "      <td>225000.000</td>\n",
       "      <td>297000.0</td>\n",
       "      <td>19975.5</td>\n",
       "      <td>297000.0</td>\n",
       "      <td>0.008575</td>\n",
       "      <td>-20644</td>\n",
       "      <td>-3147</td>\n",
       "      <td>-8921.0</td>\n",
       "      <td>...</td>\n",
       "      <td>0.0</td>\n",
       "      <td>0.0</td>\n",
       "      <td>0.0</td>\n",
       "      <td>-2941.0</td>\n",
       "      <td>0.0</td>\n",
       "      <td>0.0</td>\n",
       "      <td>0.0</td>\n",
       "      <td>0.0</td>\n",
       "      <td>0.0</td>\n",
       "      <td>3.0</td>\n",
       "    </tr>\n",
       "    <tr>\n",
       "      <th>307482</th>\n",
       "      <td>456226</td>\n",
       "      <td>0</td>\n",
       "      <td>225000.000</td>\n",
       "      <td>500566.5</td>\n",
       "      <td>34969.5</td>\n",
       "      <td>472500.0</td>\n",
       "      <td>0.031329</td>\n",
       "      <td>-14106</td>\n",
       "      <td>-226</td>\n",
       "      <td>-2463.0</td>\n",
       "      <td>...</td>\n",
       "      <td>0.0</td>\n",
       "      <td>0.0</td>\n",
       "      <td>0.0</td>\n",
       "      <td>-611.0</td>\n",
       "      <td>0.0</td>\n",
       "      <td>0.0</td>\n",
       "      <td>0.0</td>\n",
       "      <td>0.0</td>\n",
       "      <td>0.0</td>\n",
       "      <td>1.0</td>\n",
       "    </tr>\n",
       "    <tr>\n",
       "      <th>307483</th>\n",
       "      <td>456227</td>\n",
       "      <td>0</td>\n",
       "      <td>99000.000</td>\n",
       "      <td>247275.0</td>\n",
       "      <td>16479.0</td>\n",
       "      <td>225000.0</td>\n",
       "      <td>0.007330</td>\n",
       "      <td>-24911</td>\n",
       "      <td>365243</td>\n",
       "      <td>-11211.0</td>\n",
       "      <td>...</td>\n",
       "      <td>1.0</td>\n",
       "      <td>1.0</td>\n",
       "      <td>1.0</td>\n",
       "      <td>-1775.0</td>\n",
       "      <td>0.0</td>\n",
       "      <td>0.0</td>\n",
       "      <td>0.0</td>\n",
       "      <td>0.0</td>\n",
       "      <td>0.0</td>\n",
       "      <td>5.0</td>\n",
       "    </tr>\n",
       "    <tr>\n",
       "      <th>307484</th>\n",
       "      <td>456228</td>\n",
       "      <td>0</td>\n",
       "      <td>540000.000</td>\n",
       "      <td>545040.0</td>\n",
       "      <td>35617.5</td>\n",
       "      <td>450000.0</td>\n",
       "      <td>0.032561</td>\n",
       "      <td>-12847</td>\n",
       "      <td>-328</td>\n",
       "      <td>-2531.0</td>\n",
       "      <td>...</td>\n",
       "      <td>0.0</td>\n",
       "      <td>0.0</td>\n",
       "      <td>0.0</td>\n",
       "      <td>-1578.0</td>\n",
       "      <td>NaN</td>\n",
       "      <td>NaN</td>\n",
       "      <td>NaN</td>\n",
       "      <td>NaN</td>\n",
       "      <td>NaN</td>\n",
       "      <td>NaN</td>\n",
       "    </tr>\n",
       "    <tr>\n",
       "      <th>307485</th>\n",
       "      <td>456229</td>\n",
       "      <td>1</td>\n",
       "      <td>270000.000</td>\n",
       "      <td>180000.0</td>\n",
       "      <td>9000.0</td>\n",
       "      <td>180000.0</td>\n",
       "      <td>0.003813</td>\n",
       "      <td>-11973</td>\n",
       "      <td>-670</td>\n",
       "      <td>-1926.0</td>\n",
       "      <td>...</td>\n",
       "      <td>0.0</td>\n",
       "      <td>0.0</td>\n",
       "      <td>0.0</td>\n",
       "      <td>-336.0</td>\n",
       "      <td>0.0</td>\n",
       "      <td>0.0</td>\n",
       "      <td>0.0</td>\n",
       "      <td>0.0</td>\n",
       "      <td>0.0</td>\n",
       "      <td>0.0</td>\n",
       "    </tr>\n",
       "    <tr>\n",
       "      <th>307486</th>\n",
       "      <td>456230</td>\n",
       "      <td>1</td>\n",
       "      <td>292500.000</td>\n",
       "      <td>355536.0</td>\n",
       "      <td>18283.5</td>\n",
       "      <td>270000.0</td>\n",
       "      <td>0.072508</td>\n",
       "      <td>-16010</td>\n",
       "      <td>-1185</td>\n",
       "      <td>-5034.0</td>\n",
       "      <td>...</td>\n",
       "      <td>0.0</td>\n",
       "      <td>0.0</td>\n",
       "      <td>0.0</td>\n",
       "      <td>0.0</td>\n",
       "      <td>0.0</td>\n",
       "      <td>0.0</td>\n",
       "      <td>0.0</td>\n",
       "      <td>0.0</td>\n",
       "      <td>1.0</td>\n",
       "      <td>1.0</td>\n",
       "    </tr>\n",
       "    <tr>\n",
       "      <th>307487</th>\n",
       "      <td>456231</td>\n",
       "      <td>0</td>\n",
       "      <td>117000.000</td>\n",
       "      <td>1071909.0</td>\n",
       "      <td>31473.0</td>\n",
       "      <td>936000.0</td>\n",
       "      <td>0.010147</td>\n",
       "      <td>-23125</td>\n",
       "      <td>365243</td>\n",
       "      <td>-5485.0</td>\n",
       "      <td>...</td>\n",
       "      <td>0.0</td>\n",
       "      <td>0.0</td>\n",
       "      <td>0.0</td>\n",
       "      <td>-846.0</td>\n",
       "      <td>0.0</td>\n",
       "      <td>0.0</td>\n",
       "      <td>0.0</td>\n",
       "      <td>0.0</td>\n",
       "      <td>1.0</td>\n",
       "      <td>8.0</td>\n",
       "    </tr>\n",
       "    <tr>\n",
       "      <th>307488</th>\n",
       "      <td>456232</td>\n",
       "      <td>0</td>\n",
       "      <td>157500.000</td>\n",
       "      <td>135000.0</td>\n",
       "      <td>13351.5</td>\n",
       "      <td>135000.0</td>\n",
       "      <td>0.004960</td>\n",
       "      <td>-10092</td>\n",
       "      <td>-1218</td>\n",
       "      <td>-4158.0</td>\n",
       "      <td>...</td>\n",
       "      <td>0.0</td>\n",
       "      <td>1.0</td>\n",
       "      <td>0.0</td>\n",
       "      <td>-610.0</td>\n",
       "      <td>0.0</td>\n",
       "      <td>0.0</td>\n",
       "      <td>0.0</td>\n",
       "      <td>0.0</td>\n",
       "      <td>2.0</td>\n",
       "      <td>1.0</td>\n",
       "    </tr>\n",
       "    <tr>\n",
       "      <th>307489</th>\n",
       "      <td>456233</td>\n",
       "      <td>0</td>\n",
       "      <td>225000.000</td>\n",
       "      <td>521280.0</td>\n",
       "      <td>23089.5</td>\n",
       "      <td>450000.0</td>\n",
       "      <td>0.014464</td>\n",
       "      <td>-16471</td>\n",
       "      <td>-286</td>\n",
       "      <td>-8291.0</td>\n",
       "      <td>...</td>\n",
       "      <td>1.0</td>\n",
       "      <td>1.0</td>\n",
       "      <td>0.0</td>\n",
       "      <td>-307.0</td>\n",
       "      <td>0.0</td>\n",
       "      <td>0.0</td>\n",
       "      <td>0.0</td>\n",
       "      <td>0.0</td>\n",
       "      <td>1.0</td>\n",
       "      <td>2.0</td>\n",
       "    </tr>\n",
       "    <tr>\n",
       "      <th>307490</th>\n",
       "      <td>456234</td>\n",
       "      <td>0</td>\n",
       "      <td>81000.000</td>\n",
       "      <td>135000.0</td>\n",
       "      <td>9148.5</td>\n",
       "      <td>135000.0</td>\n",
       "      <td>0.010147</td>\n",
       "      <td>-9874</td>\n",
       "      <td>-1928</td>\n",
       "      <td>-9445.0</td>\n",
       "      <td>...</td>\n",
       "      <td>0.0</td>\n",
       "      <td>0.0</td>\n",
       "      <td>0.0</td>\n",
       "      <td>-439.0</td>\n",
       "      <td>0.0</td>\n",
       "      <td>0.0</td>\n",
       "      <td>0.0</td>\n",
       "      <td>0.0</td>\n",
       "      <td>0.0</td>\n",
       "      <td>1.0</td>\n",
       "    </tr>\n",
       "    <tr>\n",
       "      <th>307491</th>\n",
       "      <td>456235</td>\n",
       "      <td>2</td>\n",
       "      <td>90000.000</td>\n",
       "      <td>1078200.0</td>\n",
       "      <td>31522.5</td>\n",
       "      <td>900000.0</td>\n",
       "      <td>0.019101</td>\n",
       "      <td>-10976</td>\n",
       "      <td>-1953</td>\n",
       "      <td>-5048.0</td>\n",
       "      <td>...</td>\n",
       "      <td>0.0</td>\n",
       "      <td>4.0</td>\n",
       "      <td>0.0</td>\n",
       "      <td>-1357.0</td>\n",
       "      <td>0.0</td>\n",
       "      <td>0.0</td>\n",
       "      <td>0.0</td>\n",
       "      <td>0.0</td>\n",
       "      <td>1.0</td>\n",
       "      <td>7.0</td>\n",
       "    </tr>\n",
       "    <tr>\n",
       "      <th>307492</th>\n",
       "      <td>456236</td>\n",
       "      <td>0</td>\n",
       "      <td>585000.000</td>\n",
       "      <td>1575000.0</td>\n",
       "      <td>43443.0</td>\n",
       "      <td>1575000.0</td>\n",
       "      <td>0.028663</td>\n",
       "      <td>-20965</td>\n",
       "      <td>-1618</td>\n",
       "      <td>-1764.0</td>\n",
       "      <td>...</td>\n",
       "      <td>0.0</td>\n",
       "      <td>0.0</td>\n",
       "      <td>0.0</td>\n",
       "      <td>0.0</td>\n",
       "      <td>0.0</td>\n",
       "      <td>0.0</td>\n",
       "      <td>0.0</td>\n",
       "      <td>0.0</td>\n",
       "      <td>0.0</td>\n",
       "      <td>0.0</td>\n",
       "    </tr>\n",
       "    <tr>\n",
       "      <th>307493</th>\n",
       "      <td>456237</td>\n",
       "      <td>0</td>\n",
       "      <td>135000.000</td>\n",
       "      <td>946764.0</td>\n",
       "      <td>37678.5</td>\n",
       "      <td>765000.0</td>\n",
       "      <td>0.019689</td>\n",
       "      <td>-17533</td>\n",
       "      <td>-2306</td>\n",
       "      <td>-5032.0</td>\n",
       "      <td>...</td>\n",
       "      <td>0.0</td>\n",
       "      <td>0.0</td>\n",
       "      <td>0.0</td>\n",
       "      <td>-249.0</td>\n",
       "      <td>0.0</td>\n",
       "      <td>0.0</td>\n",
       "      <td>0.0</td>\n",
       "      <td>0.0</td>\n",
       "      <td>1.0</td>\n",
       "      <td>7.0</td>\n",
       "    </tr>\n",
       "    <tr>\n",
       "      <th>307494</th>\n",
       "      <td>456238</td>\n",
       "      <td>1</td>\n",
       "      <td>270000.000</td>\n",
       "      <td>479700.0</td>\n",
       "      <td>46858.5</td>\n",
       "      <td>450000.0</td>\n",
       "      <td>0.035792</td>\n",
       "      <td>-14958</td>\n",
       "      <td>-6573</td>\n",
       "      <td>-1438.0</td>\n",
       "      <td>...</td>\n",
       "      <td>0.0</td>\n",
       "      <td>11.0</td>\n",
       "      <td>0.0</td>\n",
       "      <td>-367.0</td>\n",
       "      <td>0.0</td>\n",
       "      <td>0.0</td>\n",
       "      <td>1.0</td>\n",
       "      <td>0.0</td>\n",
       "      <td>0.0</td>\n",
       "      <td>1.0</td>\n",
       "    </tr>\n",
       "    <tr>\n",
       "      <th>307495</th>\n",
       "      <td>456239</td>\n",
       "      <td>0</td>\n",
       "      <td>180000.000</td>\n",
       "      <td>808650.0</td>\n",
       "      <td>23773.5</td>\n",
       "      <td>675000.0</td>\n",
       "      <td>0.025164</td>\n",
       "      <td>-20922</td>\n",
       "      <td>-7438</td>\n",
       "      <td>-9596.0</td>\n",
       "      <td>...</td>\n",
       "      <td>0.0</td>\n",
       "      <td>0.0</td>\n",
       "      <td>0.0</td>\n",
       "      <td>-2919.0</td>\n",
       "      <td>0.0</td>\n",
       "      <td>0.0</td>\n",
       "      <td>0.0</td>\n",
       "      <td>0.0</td>\n",
       "      <td>0.0</td>\n",
       "      <td>1.0</td>\n",
       "    </tr>\n",
       "    <tr>\n",
       "      <th>307496</th>\n",
       "      <td>456240</td>\n",
       "      <td>0</td>\n",
       "      <td>360000.000</td>\n",
       "      <td>337500.0</td>\n",
       "      <td>16875.0</td>\n",
       "      <td>337500.0</td>\n",
       "      <td>0.004960</td>\n",
       "      <td>-17345</td>\n",
       "      <td>-2178</td>\n",
       "      <td>-4262.0</td>\n",
       "      <td>...</td>\n",
       "      <td>0.0</td>\n",
       "      <td>0.0</td>\n",
       "      <td>0.0</td>\n",
       "      <td>-826.0</td>\n",
       "      <td>0.0</td>\n",
       "      <td>0.0</td>\n",
       "      <td>0.0</td>\n",
       "      <td>0.0</td>\n",
       "      <td>0.0</td>\n",
       "      <td>2.0</td>\n",
       "    </tr>\n",
       "    <tr>\n",
       "      <th>307497</th>\n",
       "      <td>456241</td>\n",
       "      <td>0</td>\n",
       "      <td>180000.000</td>\n",
       "      <td>270126.0</td>\n",
       "      <td>12028.5</td>\n",
       "      <td>193500.0</td>\n",
       "      <td>0.007020</td>\n",
       "      <td>-16679</td>\n",
       "      <td>-1222</td>\n",
       "      <td>-1916.0</td>\n",
       "      <td>...</td>\n",
       "      <td>0.0</td>\n",
       "      <td>0.0</td>\n",
       "      <td>0.0</td>\n",
       "      <td>-1344.0</td>\n",
       "      <td>0.0</td>\n",
       "      <td>0.0</td>\n",
       "      <td>0.0</td>\n",
       "      <td>0.0</td>\n",
       "      <td>0.0</td>\n",
       "      <td>6.0</td>\n",
       "    </tr>\n",
       "    <tr>\n",
       "      <th>307498</th>\n",
       "      <td>456242</td>\n",
       "      <td>0</td>\n",
       "      <td>198000.000</td>\n",
       "      <td>1312110.0</td>\n",
       "      <td>52168.5</td>\n",
       "      <td>1125000.0</td>\n",
       "      <td>0.072508</td>\n",
       "      <td>-19102</td>\n",
       "      <td>-3689</td>\n",
       "      <td>-746.0</td>\n",
       "      <td>...</td>\n",
       "      <td>0.0</td>\n",
       "      <td>0.0</td>\n",
       "      <td>0.0</td>\n",
       "      <td>-734.0</td>\n",
       "      <td>0.0</td>\n",
       "      <td>0.0</td>\n",
       "      <td>0.0</td>\n",
       "      <td>0.0</td>\n",
       "      <td>0.0</td>\n",
       "      <td>2.0</td>\n",
       "    </tr>\n",
       "    <tr>\n",
       "      <th>307499</th>\n",
       "      <td>456243</td>\n",
       "      <td>0</td>\n",
       "      <td>81000.000</td>\n",
       "      <td>225000.0</td>\n",
       "      <td>12694.5</td>\n",
       "      <td>225000.0</td>\n",
       "      <td>0.007020</td>\n",
       "      <td>-16988</td>\n",
       "      <td>-8694</td>\n",
       "      <td>-5396.0</td>\n",
       "      <td>...</td>\n",
       "      <td>0.0</td>\n",
       "      <td>4.0</td>\n",
       "      <td>0.0</td>\n",
       "      <td>-1511.0</td>\n",
       "      <td>0.0</td>\n",
       "      <td>0.0</td>\n",
       "      <td>0.0</td>\n",
       "      <td>1.0</td>\n",
       "      <td>1.0</td>\n",
       "      <td>0.0</td>\n",
       "    </tr>\n",
       "    <tr>\n",
       "      <th>307500</th>\n",
       "      <td>456244</td>\n",
       "      <td>0</td>\n",
       "      <td>261000.000</td>\n",
       "      <td>1303812.0</td>\n",
       "      <td>35982.0</td>\n",
       "      <td>1138500.0</td>\n",
       "      <td>0.031329</td>\n",
       "      <td>-20390</td>\n",
       "      <td>-5326</td>\n",
       "      <td>-157.0</td>\n",
       "      <td>...</td>\n",
       "      <td>0.0</td>\n",
       "      <td>0.0</td>\n",
       "      <td>0.0</td>\n",
       "      <td>-1459.0</td>\n",
       "      <td>0.0</td>\n",
       "      <td>0.0</td>\n",
       "      <td>0.0</td>\n",
       "      <td>1.0</td>\n",
       "      <td>0.0</td>\n",
       "      <td>5.0</td>\n",
       "    </tr>\n",
       "    <tr>\n",
       "      <th>307501</th>\n",
       "      <td>456245</td>\n",
       "      <td>3</td>\n",
       "      <td>81000.000</td>\n",
       "      <td>269550.0</td>\n",
       "      <td>11871.0</td>\n",
       "      <td>225000.0</td>\n",
       "      <td>0.009175</td>\n",
       "      <td>-12961</td>\n",
       "      <td>-1046</td>\n",
       "      <td>-1398.0</td>\n",
       "      <td>...</td>\n",
       "      <td>1.0</td>\n",
       "      <td>2.0</td>\n",
       "      <td>1.0</td>\n",
       "      <td>-448.0</td>\n",
       "      <td>NaN</td>\n",
       "      <td>NaN</td>\n",
       "      <td>NaN</td>\n",
       "      <td>NaN</td>\n",
       "      <td>NaN</td>\n",
       "      <td>NaN</td>\n",
       "    </tr>\n",
       "    <tr>\n",
       "      <th>307502</th>\n",
       "      <td>456246</td>\n",
       "      <td>1</td>\n",
       "      <td>94500.000</td>\n",
       "      <td>225000.0</td>\n",
       "      <td>10620.0</td>\n",
       "      <td>225000.0</td>\n",
       "      <td>0.010966</td>\n",
       "      <td>-16063</td>\n",
       "      <td>-8736</td>\n",
       "      <td>-8672.0</td>\n",
       "      <td>...</td>\n",
       "      <td>0.0</td>\n",
       "      <td>0.0</td>\n",
       "      <td>0.0</td>\n",
       "      <td>-1516.0</td>\n",
       "      <td>0.0</td>\n",
       "      <td>0.0</td>\n",
       "      <td>0.0</td>\n",
       "      <td>0.0</td>\n",
       "      <td>0.0</td>\n",
       "      <td>1.0</td>\n",
       "    </tr>\n",
       "    <tr>\n",
       "      <th>307503</th>\n",
       "      <td>456247</td>\n",
       "      <td>0</td>\n",
       "      <td>112500.000</td>\n",
       "      <td>345510.0</td>\n",
       "      <td>17770.5</td>\n",
       "      <td>247500.0</td>\n",
       "      <td>0.022800</td>\n",
       "      <td>-11870</td>\n",
       "      <td>-399</td>\n",
       "      <td>-675.0</td>\n",
       "      <td>...</td>\n",
       "      <td>3.0</td>\n",
       "      <td>9.0</td>\n",
       "      <td>2.0</td>\n",
       "      <td>-2315.0</td>\n",
       "      <td>0.0</td>\n",
       "      <td>0.0</td>\n",
       "      <td>0.0</td>\n",
       "      <td>1.0</td>\n",
       "      <td>0.0</td>\n",
       "      <td>2.0</td>\n",
       "    </tr>\n",
       "    <tr>\n",
       "      <th>307504</th>\n",
       "      <td>456248</td>\n",
       "      <td>0</td>\n",
       "      <td>153000.000</td>\n",
       "      <td>331920.0</td>\n",
       "      <td>16096.5</td>\n",
       "      <td>225000.0</td>\n",
       "      <td>0.022625</td>\n",
       "      <td>-16705</td>\n",
       "      <td>-7258</td>\n",
       "      <td>-9798.0</td>\n",
       "      <td>...</td>\n",
       "      <td>0.0</td>\n",
       "      <td>0.0</td>\n",
       "      <td>0.0</td>\n",
       "      <td>0.0</td>\n",
       "      <td>NaN</td>\n",
       "      <td>NaN</td>\n",
       "      <td>NaN</td>\n",
       "      <td>NaN</td>\n",
       "      <td>NaN</td>\n",
       "      <td>NaN</td>\n",
       "    </tr>\n",
       "    <tr>\n",
       "      <th>307505</th>\n",
       "      <td>456249</td>\n",
       "      <td>0</td>\n",
       "      <td>112500.000</td>\n",
       "      <td>225000.0</td>\n",
       "      <td>22050.0</td>\n",
       "      <td>225000.0</td>\n",
       "      <td>0.022800</td>\n",
       "      <td>-24384</td>\n",
       "      <td>365243</td>\n",
       "      <td>-7369.0</td>\n",
       "      <td>...</td>\n",
       "      <td>0.0</td>\n",
       "      <td>0.0</td>\n",
       "      <td>0.0</td>\n",
       "      <td>0.0</td>\n",
       "      <td>0.0</td>\n",
       "      <td>0.0</td>\n",
       "      <td>0.0</td>\n",
       "      <td>2.0</td>\n",
       "      <td>0.0</td>\n",
       "      <td>0.0</td>\n",
       "    </tr>\n",
       "    <tr>\n",
       "      <th>307506</th>\n",
       "      <td>456251</td>\n",
       "      <td>0</td>\n",
       "      <td>157500.000</td>\n",
       "      <td>254700.0</td>\n",
       "      <td>27558.0</td>\n",
       "      <td>225000.0</td>\n",
       "      <td>0.032561</td>\n",
       "      <td>-9327</td>\n",
       "      <td>-236</td>\n",
       "      <td>-8456.0</td>\n",
       "      <td>...</td>\n",
       "      <td>0.0</td>\n",
       "      <td>0.0</td>\n",
       "      <td>0.0</td>\n",
       "      <td>-273.0</td>\n",
       "      <td>NaN</td>\n",
       "      <td>NaN</td>\n",
       "      <td>NaN</td>\n",
       "      <td>NaN</td>\n",
       "      <td>NaN</td>\n",
       "      <td>NaN</td>\n",
       "    </tr>\n",
       "    <tr>\n",
       "      <th>307507</th>\n",
       "      <td>456252</td>\n",
       "      <td>0</td>\n",
       "      <td>72000.000</td>\n",
       "      <td>269550.0</td>\n",
       "      <td>12001.5</td>\n",
       "      <td>225000.0</td>\n",
       "      <td>0.025164</td>\n",
       "      <td>-20775</td>\n",
       "      <td>365243</td>\n",
       "      <td>-4388.0</td>\n",
       "      <td>...</td>\n",
       "      <td>0.0</td>\n",
       "      <td>0.0</td>\n",
       "      <td>0.0</td>\n",
       "      <td>0.0</td>\n",
       "      <td>NaN</td>\n",
       "      <td>NaN</td>\n",
       "      <td>NaN</td>\n",
       "      <td>NaN</td>\n",
       "      <td>NaN</td>\n",
       "      <td>NaN</td>\n",
       "    </tr>\n",
       "    <tr>\n",
       "      <th>307508</th>\n",
       "      <td>456253</td>\n",
       "      <td>0</td>\n",
       "      <td>153000.000</td>\n",
       "      <td>677664.0</td>\n",
       "      <td>29979.0</td>\n",
       "      <td>585000.0</td>\n",
       "      <td>0.005002</td>\n",
       "      <td>-14966</td>\n",
       "      <td>-7921</td>\n",
       "      <td>-6737.0</td>\n",
       "      <td>...</td>\n",
       "      <td>0.0</td>\n",
       "      <td>6.0</td>\n",
       "      <td>0.0</td>\n",
       "      <td>-1909.0</td>\n",
       "      <td>1.0</td>\n",
       "      <td>0.0</td>\n",
       "      <td>0.0</td>\n",
       "      <td>1.0</td>\n",
       "      <td>0.0</td>\n",
       "      <td>1.0</td>\n",
       "    </tr>\n",
       "    <tr>\n",
       "      <th>307509</th>\n",
       "      <td>456254</td>\n",
       "      <td>0</td>\n",
       "      <td>171000.000</td>\n",
       "      <td>370107.0</td>\n",
       "      <td>20205.0</td>\n",
       "      <td>319500.0</td>\n",
       "      <td>0.005313</td>\n",
       "      <td>-11961</td>\n",
       "      <td>-4786</td>\n",
       "      <td>-2562.0</td>\n",
       "      <td>...</td>\n",
       "      <td>0.0</td>\n",
       "      <td>0.0</td>\n",
       "      <td>0.0</td>\n",
       "      <td>-322.0</td>\n",
       "      <td>0.0</td>\n",
       "      <td>0.0</td>\n",
       "      <td>0.0</td>\n",
       "      <td>0.0</td>\n",
       "      <td>0.0</td>\n",
       "      <td>0.0</td>\n",
       "    </tr>\n",
       "    <tr>\n",
       "      <th>307510</th>\n",
       "      <td>456255</td>\n",
       "      <td>0</td>\n",
       "      <td>157500.000</td>\n",
       "      <td>675000.0</td>\n",
       "      <td>49117.5</td>\n",
       "      <td>675000.0</td>\n",
       "      <td>0.046220</td>\n",
       "      <td>-16856</td>\n",
       "      <td>-1262</td>\n",
       "      <td>-5128.0</td>\n",
       "      <td>...</td>\n",
       "      <td>0.0</td>\n",
       "      <td>0.0</td>\n",
       "      <td>0.0</td>\n",
       "      <td>-787.0</td>\n",
       "      <td>0.0</td>\n",
       "      <td>0.0</td>\n",
       "      <td>0.0</td>\n",
       "      <td>2.0</td>\n",
       "      <td>0.0</td>\n",
       "      <td>1.0</td>\n",
       "    </tr>\n",
       "  </tbody>\n",
       "</table>\n",
       "<p>307511 rows × 73 columns</p>\n",
       "</div>"
      ],
      "text/plain": [
       "        SK_ID_CURR  CNT_CHILDREN  AMT_INCOME_TOTAL  AMT_CREDIT  AMT_ANNUITY  \\\n",
       "0           100002             0        202500.000    406597.5      24700.5   \n",
       "1           100003             0        270000.000   1293502.5      35698.5   \n",
       "2           100004             0         67500.000    135000.0       6750.0   \n",
       "3           100006             0        135000.000    312682.5      29686.5   \n",
       "4           100007             0        121500.000    513000.0      21865.5   \n",
       "5           100008             0         99000.000    490495.5      27517.5   \n",
       "6           100009             1        171000.000   1560726.0      41301.0   \n",
       "7           100010             0        360000.000   1530000.0      42075.0   \n",
       "8           100011             0        112500.000   1019610.0      33826.5   \n",
       "9           100012             0        135000.000    405000.0      20250.0   \n",
       "10          100014             1        112500.000    652500.0      21177.0   \n",
       "11          100015             0         38419.155    148365.0      10678.5   \n",
       "12          100016             0         67500.000     80865.0       5881.5   \n",
       "13          100017             1        225000.000    918468.0      28966.5   \n",
       "14          100018             0        189000.000    773680.5      32778.0   \n",
       "15          100019             0        157500.000    299772.0      20160.0   \n",
       "16          100020             0        108000.000    509602.5      26149.5   \n",
       "17          100021             1         81000.000    270000.0      13500.0   \n",
       "18          100022             0        112500.000    157500.0       7875.0   \n",
       "19          100023             1         90000.000    544491.0      17563.5   \n",
       "20          100024             0        135000.000    427500.0      21375.0   \n",
       "21          100025             1        202500.000   1132573.5      37561.5   \n",
       "22          100026             1        450000.000    497520.0      32521.5   \n",
       "23          100027             0         83250.000    239850.0      23850.0   \n",
       "24          100029             2        135000.000    247500.0      12703.5   \n",
       "25          100030             0         90000.000    225000.0      11074.5   \n",
       "26          100031             0        112500.000    979992.0      27076.5   \n",
       "27          100032             1        112500.000    327024.0      23827.5   \n",
       "28          100033             0        270000.000    790830.0      57676.5   \n",
       "29          100034             0         90000.000    180000.0       9000.0   \n",
       "...            ...           ...               ...         ...          ...   \n",
       "307481      456225             0        225000.000    297000.0      19975.5   \n",
       "307482      456226             0        225000.000    500566.5      34969.5   \n",
       "307483      456227             0         99000.000    247275.0      16479.0   \n",
       "307484      456228             0        540000.000    545040.0      35617.5   \n",
       "307485      456229             1        270000.000    180000.0       9000.0   \n",
       "307486      456230             1        292500.000    355536.0      18283.5   \n",
       "307487      456231             0        117000.000   1071909.0      31473.0   \n",
       "307488      456232             0        157500.000    135000.0      13351.5   \n",
       "307489      456233             0        225000.000    521280.0      23089.5   \n",
       "307490      456234             0         81000.000    135000.0       9148.5   \n",
       "307491      456235             2         90000.000   1078200.0      31522.5   \n",
       "307492      456236             0        585000.000   1575000.0      43443.0   \n",
       "307493      456237             0        135000.000    946764.0      37678.5   \n",
       "307494      456238             1        270000.000    479700.0      46858.5   \n",
       "307495      456239             0        180000.000    808650.0      23773.5   \n",
       "307496      456240             0        360000.000    337500.0      16875.0   \n",
       "307497      456241             0        180000.000    270126.0      12028.5   \n",
       "307498      456242             0        198000.000   1312110.0      52168.5   \n",
       "307499      456243             0         81000.000    225000.0      12694.5   \n",
       "307500      456244             0        261000.000   1303812.0      35982.0   \n",
       "307501      456245             3         81000.000    269550.0      11871.0   \n",
       "307502      456246             1         94500.000    225000.0      10620.0   \n",
       "307503      456247             0        112500.000    345510.0      17770.5   \n",
       "307504      456248             0        153000.000    331920.0      16096.5   \n",
       "307505      456249             0        112500.000    225000.0      22050.0   \n",
       "307506      456251             0        157500.000    254700.0      27558.0   \n",
       "307507      456252             0         72000.000    269550.0      12001.5   \n",
       "307508      456253             0        153000.000    677664.0      29979.0   \n",
       "307509      456254             0        171000.000    370107.0      20205.0   \n",
       "307510      456255             0        157500.000    675000.0      49117.5   \n",
       "\n",
       "        AMT_GOODS_PRICE  REGION_POPULATION_RELATIVE  DAYS_BIRTH  \\\n",
       "0              351000.0                    0.018801       -9461   \n",
       "1             1129500.0                    0.003541      -16765   \n",
       "2              135000.0                    0.010032      -19046   \n",
       "3              297000.0                    0.008019      -19005   \n",
       "4              513000.0                    0.028663      -19932   \n",
       "5              454500.0                    0.035792      -16941   \n",
       "6             1395000.0                    0.035792      -13778   \n",
       "7             1530000.0                    0.003122      -18850   \n",
       "8              913500.0                    0.018634      -20099   \n",
       "9              405000.0                    0.019689      -14469   \n",
       "10             652500.0                    0.022800      -10197   \n",
       "11             135000.0                    0.015221      -20417   \n",
       "12              67500.0                    0.031329      -13439   \n",
       "13             697500.0                    0.016612      -14086   \n",
       "14             679500.0                    0.010006      -14583   \n",
       "15             247500.0                    0.020713       -8728   \n",
       "16             387000.0                    0.018634      -12931   \n",
       "17             270000.0                    0.010966       -9776   \n",
       "18             157500.0                    0.046220      -17718   \n",
       "19             454500.0                    0.015221      -11348   \n",
       "20             427500.0                    0.015221      -18252   \n",
       "21             927000.0                    0.025164      -14815   \n",
       "22             450000.0                    0.020713      -11146   \n",
       "23             225000.0                    0.006296      -24827   \n",
       "24             247500.0                    0.026392      -11286   \n",
       "25             225000.0                    0.028663      -19334   \n",
       "26             702000.0                    0.018029      -18724   \n",
       "27             270000.0                    0.019101      -15948   \n",
       "28             675000.0                    0.046220       -9994   \n",
       "29             180000.0                    0.030755      -10341   \n",
       "...                 ...                         ...         ...   \n",
       "307481         297000.0                    0.008575      -20644   \n",
       "307482         472500.0                    0.031329      -14106   \n",
       "307483         225000.0                    0.007330      -24911   \n",
       "307484         450000.0                    0.032561      -12847   \n",
       "307485         180000.0                    0.003813      -11973   \n",
       "307486         270000.0                    0.072508      -16010   \n",
       "307487         936000.0                    0.010147      -23125   \n",
       "307488         135000.0                    0.004960      -10092   \n",
       "307489         450000.0                    0.014464      -16471   \n",
       "307490         135000.0                    0.010147       -9874   \n",
       "307491         900000.0                    0.019101      -10976   \n",
       "307492        1575000.0                    0.028663      -20965   \n",
       "307493         765000.0                    0.019689      -17533   \n",
       "307494         450000.0                    0.035792      -14958   \n",
       "307495         675000.0                    0.025164      -20922   \n",
       "307496         337500.0                    0.004960      -17345   \n",
       "307497         193500.0                    0.007020      -16679   \n",
       "307498        1125000.0                    0.072508      -19102   \n",
       "307499         225000.0                    0.007020      -16988   \n",
       "307500        1138500.0                    0.031329      -20390   \n",
       "307501         225000.0                    0.009175      -12961   \n",
       "307502         225000.0                    0.010966      -16063   \n",
       "307503         247500.0                    0.022800      -11870   \n",
       "307504         225000.0                    0.022625      -16705   \n",
       "307505         225000.0                    0.022800      -24384   \n",
       "307506         225000.0                    0.032561       -9327   \n",
       "307507         225000.0                    0.025164      -20775   \n",
       "307508         585000.0                    0.005002      -14966   \n",
       "307509         319500.0                    0.005313      -11961   \n",
       "307510         675000.0                    0.046220      -16856   \n",
       "\n",
       "        DAYS_EMPLOYED  DAYS_REGISTRATION             ...              \\\n",
       "0                -637            -3648.0             ...               \n",
       "1               -1188            -1186.0             ...               \n",
       "2                -225            -4260.0             ...               \n",
       "3               -3039            -9833.0             ...               \n",
       "4               -3038            -4311.0             ...               \n",
       "5               -1588            -4970.0             ...               \n",
       "6               -3130            -1213.0             ...               \n",
       "7                -449            -4597.0             ...               \n",
       "8              365243            -7427.0             ...               \n",
       "9               -2019           -14437.0             ...               \n",
       "10               -679            -4427.0             ...               \n",
       "11             365243            -5246.0             ...               \n",
       "12              -2717             -311.0             ...               \n",
       "13              -3028             -643.0             ...               \n",
       "14               -203             -615.0             ...               \n",
       "15              -1157            -3494.0             ...               \n",
       "16              -1317            -6392.0             ...               \n",
       "17               -191            -4143.0             ...               \n",
       "18              -7804            -8751.0             ...               \n",
       "19              -2038            -1021.0             ...               \n",
       "20              -4286             -298.0             ...               \n",
       "21              -1652            -2299.0             ...               \n",
       "22              -4306             -114.0             ...               \n",
       "23             365243            -9012.0             ...               \n",
       "24               -746             -108.0             ...               \n",
       "25              -3494            -2419.0             ...               \n",
       "26              -2628            -6573.0             ...               \n",
       "27              -1234            -5782.0             ...               \n",
       "28              -1796            -4668.0             ...               \n",
       "29              -1010            -4799.0             ...               \n",
       "...               ...                ...             ...               \n",
       "307481          -3147            -8921.0             ...               \n",
       "307482           -226            -2463.0             ...               \n",
       "307483         365243           -11211.0             ...               \n",
       "307484           -328            -2531.0             ...               \n",
       "307485           -670            -1926.0             ...               \n",
       "307486          -1185            -5034.0             ...               \n",
       "307487         365243            -5485.0             ...               \n",
       "307488          -1218            -4158.0             ...               \n",
       "307489           -286            -8291.0             ...               \n",
       "307490          -1928            -9445.0             ...               \n",
       "307491          -1953            -5048.0             ...               \n",
       "307492          -1618            -1764.0             ...               \n",
       "307493          -2306            -5032.0             ...               \n",
       "307494          -6573            -1438.0             ...               \n",
       "307495          -7438            -9596.0             ...               \n",
       "307496          -2178            -4262.0             ...               \n",
       "307497          -1222            -1916.0             ...               \n",
       "307498          -3689             -746.0             ...               \n",
       "307499          -8694            -5396.0             ...               \n",
       "307500          -5326             -157.0             ...               \n",
       "307501          -1046            -1398.0             ...               \n",
       "307502          -8736            -8672.0             ...               \n",
       "307503           -399             -675.0             ...               \n",
       "307504          -7258            -9798.0             ...               \n",
       "307505         365243            -7369.0             ...               \n",
       "307506           -236            -8456.0             ...               \n",
       "307507         365243            -4388.0             ...               \n",
       "307508          -7921            -6737.0             ...               \n",
       "307509          -4786            -2562.0             ...               \n",
       "307510          -1262            -5128.0             ...               \n",
       "\n",
       "        DEF_30_CNT_SOCIAL_CIRCLE  OBS_60_CNT_SOCIAL_CIRCLE  \\\n",
       "0                            2.0                       2.0   \n",
       "1                            0.0                       1.0   \n",
       "2                            0.0                       0.0   \n",
       "3                            0.0                       2.0   \n",
       "4                            0.0                       0.0   \n",
       "5                            0.0                       0.0   \n",
       "6                            0.0                       1.0   \n",
       "7                            0.0                       2.0   \n",
       "8                            0.0                       1.0   \n",
       "9                            0.0                       2.0   \n",
       "10                           0.0                       0.0   \n",
       "11                           0.0                       0.0   \n",
       "12                           0.0                       0.0   \n",
       "13                           0.0                       0.0   \n",
       "14                           0.0                       0.0   \n",
       "15                           0.0                       0.0   \n",
       "16                           0.0                       0.0   \n",
       "17                           0.0                       4.0   \n",
       "18                           0.0                       8.0   \n",
       "19                           0.0                       0.0   \n",
       "20                           0.0                       0.0   \n",
       "21                           0.0                       0.0   \n",
       "22                           0.0                       0.0   \n",
       "23                           0.0                       0.0   \n",
       "24                           1.0                       1.0   \n",
       "25                           0.0                       0.0   \n",
       "26                           1.0                      10.0   \n",
       "27                           0.0                       2.0   \n",
       "28                           0.0                       0.0   \n",
       "29                           0.0                       0.0   \n",
       "...                          ...                       ...   \n",
       "307481                       0.0                       0.0   \n",
       "307482                       0.0                       0.0   \n",
       "307483                       1.0                       1.0   \n",
       "307484                       0.0                       0.0   \n",
       "307485                       0.0                       0.0   \n",
       "307486                       0.0                       0.0   \n",
       "307487                       0.0                       0.0   \n",
       "307488                       0.0                       1.0   \n",
       "307489                       1.0                       1.0   \n",
       "307490                       0.0                       0.0   \n",
       "307491                       0.0                       4.0   \n",
       "307492                       0.0                       0.0   \n",
       "307493                       0.0                       0.0   \n",
       "307494                       0.0                      11.0   \n",
       "307495                       0.0                       0.0   \n",
       "307496                       0.0                       0.0   \n",
       "307497                       0.0                       0.0   \n",
       "307498                       0.0                       0.0   \n",
       "307499                       0.0                       4.0   \n",
       "307500                       0.0                       0.0   \n",
       "307501                       1.0                       2.0   \n",
       "307502                       0.0                       0.0   \n",
       "307503                       3.0                       9.0   \n",
       "307504                       0.0                       0.0   \n",
       "307505                       0.0                       0.0   \n",
       "307506                       0.0                       0.0   \n",
       "307507                       0.0                       0.0   \n",
       "307508                       0.0                       6.0   \n",
       "307509                       0.0                       0.0   \n",
       "307510                       0.0                       0.0   \n",
       "\n",
       "        DEF_60_CNT_SOCIAL_CIRCLE  DAYS_LAST_PHONE_CHANGE  \\\n",
       "0                            2.0                 -1134.0   \n",
       "1                            0.0                  -828.0   \n",
       "2                            0.0                  -815.0   \n",
       "3                            0.0                  -617.0   \n",
       "4                            0.0                 -1106.0   \n",
       "5                            0.0                 -2536.0   \n",
       "6                            0.0                 -1562.0   \n",
       "7                            0.0                 -1070.0   \n",
       "8                            0.0                     0.0   \n",
       "9                            0.0                 -1673.0   \n",
       "10                           0.0                  -844.0   \n",
       "11                           0.0                 -2396.0   \n",
       "12                           0.0                 -2370.0   \n",
       "13                           0.0                    -4.0   \n",
       "14                           0.0                  -188.0   \n",
       "15                           0.0                  -925.0   \n",
       "16                           0.0                    -3.0   \n",
       "17                           0.0                 -2811.0   \n",
       "18                           0.0                  -239.0   \n",
       "19                           0.0                 -1850.0   \n",
       "20                           0.0                  -296.0   \n",
       "21                           0.0                     0.0   \n",
       "22                           0.0                  -468.0   \n",
       "23                           0.0                  -795.0   \n",
       "24                           0.0                    -4.0   \n",
       "25                           0.0                     0.0   \n",
       "26                           0.0                  -161.0   \n",
       "27                           0.0                    -2.0   \n",
       "28                           0.0                  -849.0   \n",
       "29                           0.0                  -599.0   \n",
       "...                          ...                     ...   \n",
       "307481                       0.0                 -2941.0   \n",
       "307482                       0.0                  -611.0   \n",
       "307483                       1.0                 -1775.0   \n",
       "307484                       0.0                 -1578.0   \n",
       "307485                       0.0                  -336.0   \n",
       "307486                       0.0                     0.0   \n",
       "307487                       0.0                  -846.0   \n",
       "307488                       0.0                  -610.0   \n",
       "307489                       0.0                  -307.0   \n",
       "307490                       0.0                  -439.0   \n",
       "307491                       0.0                 -1357.0   \n",
       "307492                       0.0                     0.0   \n",
       "307493                       0.0                  -249.0   \n",
       "307494                       0.0                  -367.0   \n",
       "307495                       0.0                 -2919.0   \n",
       "307496                       0.0                  -826.0   \n",
       "307497                       0.0                 -1344.0   \n",
       "307498                       0.0                  -734.0   \n",
       "307499                       0.0                 -1511.0   \n",
       "307500                       0.0                 -1459.0   \n",
       "307501                       1.0                  -448.0   \n",
       "307502                       0.0                 -1516.0   \n",
       "307503                       2.0                 -2315.0   \n",
       "307504                       0.0                     0.0   \n",
       "307505                       0.0                     0.0   \n",
       "307506                       0.0                  -273.0   \n",
       "307507                       0.0                     0.0   \n",
       "307508                       0.0                 -1909.0   \n",
       "307509                       0.0                  -322.0   \n",
       "307510                       0.0                  -787.0   \n",
       "\n",
       "        AMT_REQ_CREDIT_BUREAU_HOUR  AMT_REQ_CREDIT_BUREAU_DAY  \\\n",
       "0                              0.0                        0.0   \n",
       "1                              0.0                        0.0   \n",
       "2                              0.0                        0.0   \n",
       "3                              NaN                        NaN   \n",
       "4                              0.0                        0.0   \n",
       "5                              0.0                        0.0   \n",
       "6                              0.0                        0.0   \n",
       "7                              0.0                        0.0   \n",
       "8                              0.0                        0.0   \n",
       "9                              NaN                        NaN   \n",
       "10                             0.0                        0.0   \n",
       "11                             0.0                        0.0   \n",
       "12                             0.0                        0.0   \n",
       "13                             0.0                        0.0   \n",
       "14                             NaN                        NaN   \n",
       "15                             0.0                        0.0   \n",
       "16                             0.0                        0.0   \n",
       "17                             NaN                        NaN   \n",
       "18                             0.0                        0.0   \n",
       "19                             0.0                        0.0   \n",
       "20                             NaN                        NaN   \n",
       "21                             0.0                        0.0   \n",
       "22                             0.0                        0.0   \n",
       "23                             0.0                        0.0   \n",
       "24                             0.0                        0.0   \n",
       "25                             0.0                        0.0   \n",
       "26                             0.0                        0.0   \n",
       "27                             0.0                        0.0   \n",
       "28                             0.0                        0.0   \n",
       "29                             NaN                        NaN   \n",
       "...                            ...                        ...   \n",
       "307481                         0.0                        0.0   \n",
       "307482                         0.0                        0.0   \n",
       "307483                         0.0                        0.0   \n",
       "307484                         NaN                        NaN   \n",
       "307485                         0.0                        0.0   \n",
       "307486                         0.0                        0.0   \n",
       "307487                         0.0                        0.0   \n",
       "307488                         0.0                        0.0   \n",
       "307489                         0.0                        0.0   \n",
       "307490                         0.0                        0.0   \n",
       "307491                         0.0                        0.0   \n",
       "307492                         0.0                        0.0   \n",
       "307493                         0.0                        0.0   \n",
       "307494                         0.0                        0.0   \n",
       "307495                         0.0                        0.0   \n",
       "307496                         0.0                        0.0   \n",
       "307497                         0.0                        0.0   \n",
       "307498                         0.0                        0.0   \n",
       "307499                         0.0                        0.0   \n",
       "307500                         0.0                        0.0   \n",
       "307501                         NaN                        NaN   \n",
       "307502                         0.0                        0.0   \n",
       "307503                         0.0                        0.0   \n",
       "307504                         NaN                        NaN   \n",
       "307505                         0.0                        0.0   \n",
       "307506                         NaN                        NaN   \n",
       "307507                         NaN                        NaN   \n",
       "307508                         1.0                        0.0   \n",
       "307509                         0.0                        0.0   \n",
       "307510                         0.0                        0.0   \n",
       "\n",
       "        AMT_REQ_CREDIT_BUREAU_WEEK  AMT_REQ_CREDIT_BUREAU_MON  \\\n",
       "0                              0.0                        0.0   \n",
       "1                              0.0                        0.0   \n",
       "2                              0.0                        0.0   \n",
       "3                              NaN                        NaN   \n",
       "4                              0.0                        0.0   \n",
       "5                              0.0                        0.0   \n",
       "6                              0.0                        1.0   \n",
       "7                              0.0                        0.0   \n",
       "8                              0.0                        0.0   \n",
       "9                              NaN                        NaN   \n",
       "10                             0.0                        1.0   \n",
       "11                             0.0                        0.0   \n",
       "12                             0.0                        1.0   \n",
       "13                             0.0                        0.0   \n",
       "14                             NaN                        NaN   \n",
       "15                             0.0                        0.0   \n",
       "16                             0.0                        0.0   \n",
       "17                             NaN                        NaN   \n",
       "18                             0.0                        0.0   \n",
       "19                             0.0                        0.0   \n",
       "20                             NaN                        NaN   \n",
       "21                             0.0                        0.0   \n",
       "22                             0.0                        0.0   \n",
       "23                             0.0                        0.0   \n",
       "24                             0.0                        0.0   \n",
       "25                             0.0                        0.0   \n",
       "26                             0.0                        0.0   \n",
       "27                             0.0                        0.0   \n",
       "28                             0.0                        1.0   \n",
       "29                             NaN                        NaN   \n",
       "...                            ...                        ...   \n",
       "307481                         0.0                        0.0   \n",
       "307482                         0.0                        0.0   \n",
       "307483                         0.0                        0.0   \n",
       "307484                         NaN                        NaN   \n",
       "307485                         0.0                        0.0   \n",
       "307486                         0.0                        0.0   \n",
       "307487                         0.0                        0.0   \n",
       "307488                         0.0                        0.0   \n",
       "307489                         0.0                        0.0   \n",
       "307490                         0.0                        0.0   \n",
       "307491                         0.0                        0.0   \n",
       "307492                         0.0                        0.0   \n",
       "307493                         0.0                        0.0   \n",
       "307494                         1.0                        0.0   \n",
       "307495                         0.0                        0.0   \n",
       "307496                         0.0                        0.0   \n",
       "307497                         0.0                        0.0   \n",
       "307498                         0.0                        0.0   \n",
       "307499                         0.0                        1.0   \n",
       "307500                         0.0                        1.0   \n",
       "307501                         NaN                        NaN   \n",
       "307502                         0.0                        0.0   \n",
       "307503                         0.0                        1.0   \n",
       "307504                         NaN                        NaN   \n",
       "307505                         0.0                        2.0   \n",
       "307506                         NaN                        NaN   \n",
       "307507                         NaN                        NaN   \n",
       "307508                         0.0                        1.0   \n",
       "307509                         0.0                        0.0   \n",
       "307510                         0.0                        2.0   \n",
       "\n",
       "        AMT_REQ_CREDIT_BUREAU_QRT  AMT_REQ_CREDIT_BUREAU_YEAR  \n",
       "0                             0.0                         1.0  \n",
       "1                             0.0                         0.0  \n",
       "2                             0.0                         0.0  \n",
       "3                             NaN                         NaN  \n",
       "4                             0.0                         0.0  \n",
       "5                             1.0                         1.0  \n",
       "6                             1.0                         2.0  \n",
       "7                             0.0                         0.0  \n",
       "8                             0.0                         1.0  \n",
       "9                             NaN                         NaN  \n",
       "10                            0.0                         0.0  \n",
       "11                            0.0                         2.0  \n",
       "12                            0.0                         0.0  \n",
       "13                            0.0                         1.0  \n",
       "14                            NaN                         NaN  \n",
       "15                            0.0                         1.0  \n",
       "16                            1.0                         0.0  \n",
       "17                            NaN                         NaN  \n",
       "18                            0.0                         0.0  \n",
       "19                            0.0                         2.0  \n",
       "20                            NaN                         NaN  \n",
       "21                            1.0                         4.0  \n",
       "22                            0.0                         5.0  \n",
       "23                            0.0                         3.0  \n",
       "24                            0.0                         0.0  \n",
       "25                            0.0                         0.0  \n",
       "26                            2.0                         2.0  \n",
       "27                            0.0                         0.0  \n",
       "28                            0.0                         1.0  \n",
       "29                            NaN                         NaN  \n",
       "...                           ...                         ...  \n",
       "307481                        0.0                         3.0  \n",
       "307482                        0.0                         1.0  \n",
       "307483                        0.0                         5.0  \n",
       "307484                        NaN                         NaN  \n",
       "307485                        0.0                         0.0  \n",
       "307486                        1.0                         1.0  \n",
       "307487                        1.0                         8.0  \n",
       "307488                        2.0                         1.0  \n",
       "307489                        1.0                         2.0  \n",
       "307490                        0.0                         1.0  \n",
       "307491                        1.0                         7.0  \n",
       "307492                        0.0                         0.0  \n",
       "307493                        1.0                         7.0  \n",
       "307494                        0.0                         1.0  \n",
       "307495                        0.0                         1.0  \n",
       "307496                        0.0                         2.0  \n",
       "307497                        0.0                         6.0  \n",
       "307498                        0.0                         2.0  \n",
       "307499                        1.0                         0.0  \n",
       "307500                        0.0                         5.0  \n",
       "307501                        NaN                         NaN  \n",
       "307502                        0.0                         1.0  \n",
       "307503                        0.0                         2.0  \n",
       "307504                        NaN                         NaN  \n",
       "307505                        0.0                         0.0  \n",
       "307506                        NaN                         NaN  \n",
       "307507                        NaN                         NaN  \n",
       "307508                        0.0                         1.0  \n",
       "307509                        0.0                         0.0  \n",
       "307510                        0.0                         1.0  \n",
       "\n",
       "[307511 rows x 73 columns]"
      ]
     },
     "execution_count": 6,
     "metadata": {},
     "output_type": "execute_result"
    }
   ],
   "source": [
    "numeric_data = app_train[numeric_columns]\n",
    "numeric_data"
   ]
  },
  {
   "cell_type": "code",
   "execution_count": 7,
   "metadata": {},
   "outputs": [
    {
     "name": "stdout",
     "output_type": "stream",
     "text": [
      "Columns name: SK_ID_CURR\n"
     ]
    },
    {
     "data": {
      "image/png": "[encoded data removed]",
      "text/plain": [
       "<Figure size 432x288 with 1 Axes>"
      ]
     },
     "metadata": {
      "needs_background": "light"
     },
     "output_type": "display_data"
    },
    {
     "name": "stdout",
     "output_type": "stream",
     "text": [
      "Columns name: CNT_CHILDREN\n"
     ]
    },
    {
     "data": {
      "image/png": "[encoded data removed]",
      "text/plain": [
       "<Figure size 432x288 with 1 Axes>"
      ]
     },
     "metadata": {
      "needs_background": "light"
     },
     "output_type": "display_data"
    },
    {
     "name": "stdout",
     "output_type": "stream",
     "text": [
      "Columns name: AMT_INCOME_TOTAL\n"
     ]
    },
    {
     "data": {
      "image/png": "[encoded data removed]",
      "text/plain": [
       "<Figure size 432x288 with 1 Axes>"
      ]
     },
     "metadata": {
      "needs_background": "light"
     },
     "output_type": "display_data"
    },
    {
     "name": "stdout",
     "output_type": "stream",
     "text": [
      "Columns name: AMT_CREDIT\n"
     ]
    },
    {
     "data": {
      "image/png": "[encoded data removed]",
      "text/plain": [
       "<Figure size 432x288 with 1 Axes>"
      ]
     },
     "metadata": {
      "needs_background": "light"
     },
     "output_type": "display_data"
    },
    {
     "name": "stdout",
     "output_type": "stream",
     "text": [
      "Columns name: AMT_ANNUITY\n"
     ]
    },
    {
     "name": "stderr",
     "output_type": "stream",
     "text": [
      "/Users/eddie/anaconda3/lib/python3.6/site-packages/numpy/lib/function_base.py:3821: RuntimeWarning: Invalid value encountered in percentile\n",
      "  interpolation=interpolation)\n",
      "/Users/eddie/anaconda3/lib/python3.6/site-packages/matplotlib/cbook/__init__.py:1246: RuntimeWarning: invalid value encountered in less_equal\n",
      "  wiskhi = np.compress(x <= hival, x)\n",
      "/Users/eddie/anaconda3/lib/python3.6/site-packages/matplotlib/cbook/__init__.py:1253: RuntimeWarning: invalid value encountered in greater_equal\n",
      "  wisklo = np.compress(x >= loval, x)\n",
      "/Users/eddie/anaconda3/lib/python3.6/site-packages/matplotlib/cbook/__init__.py:1261: RuntimeWarning: invalid value encountered in less\n",
      "  np.compress(x < stats['whislo'], x),\n",
      "/Users/eddie/anaconda3/lib/python3.6/site-packages/matplotlib/cbook/__init__.py:1262: RuntimeWarning: invalid value encountered in greater\n",
      "  np.compress(x > stats['whishi'], x)\n"
     ]
    },
    {
     "data": {
      "image/png": "[encoded data removed]",
      "text/plain": [
       "<Figure size 432x288 with 1 Axes>"
      ]
     },
     "metadata": {
      "needs_background": "light"
     },
     "output_type": "display_data"
    },
    {
     "name": "stdout",
     "output_type": "stream",
     "text": [
      "Columns name: AMT_GOODS_PRICE\n"
     ]
    },
    {
     "data": {
      "image/png": "[encoded data removed]",
      "text/plain": [
       "<Figure size 432x288 with 1 Axes>"
      ]
     },
     "metadata": {
      "needs_background": "light"
     },
     "output_type": "display_data"
    },
    {
     "name": "stdout",
     "output_type": "stream",
     "text": [
      "Columns name: REGION_POPULATION_RELATIVE\n"
     ]
    },
    {
     "data": {
      "image/png": "[encoded data removed]",
      "text/plain": [
       "<Figure size 432x288 with 1 Axes>"
      ]
     },
     "metadata": {
      "needs_background": "light"
     },
     "output_type": "display_data"
    },
    {
     "name": "stdout",
     "output_type": "stream",
     "text": [
      "Columns name: DAYS_BIRTH\n"
     ]
    },
    {
     "data": {
      "image/png": "[encoded data removed]",
      "text/plain": [
       "<Figure size 432x288 with 1 Axes>"
      ]
     },
     "metadata": {
      "needs_background": "light"
     },
     "output_type": "display_data"
    },
    {
     "name": "stdout",
     "output_type": "stream",
     "text": [
      "Columns name: DAYS_EMPLOYED\n"
     ]
    },
    {
     "data": {
      "image/png": "[encoded data removed]",
      "text/plain": [
       "<Figure size 432x288 with 1 Axes>"
      ]
     },
     "metadata": {
      "needs_background": "light"
     },
     "output_type": "display_data"
    },
    {
     "name": "stdout",
     "output_type": "stream",
     "text": [
      "Columns name: DAYS_REGISTRATION\n"
     ]
    },
    {
     "data": {
      "image/png": "[encoded data removed]",
      "text/plain": [
       "<Figure size 432x288 with 1 Axes>"
      ]
     },
     "metadata": {
      "needs_background": "light"
     },
     "output_type": "display_data"
    },
    {
     "name": "stdout",
     "output_type": "stream",
     "text": [
      "Columns name: DAYS_ID_PUBLISH\n"
     ]
    },
    {
     "data": {
      "image/png": "[encoded data removed]",
      "text/plain": [
       "<Figure size 432x288 with 1 Axes>"
      ]
     },
     "metadata": {
      "needs_background": "light"
     },
     "output_type": "display_data"
    },
    {
     "name": "stdout",
     "output_type": "stream",
     "text": [
      "Columns name: OWN_CAR_AGE\n"
     ]
    },
    {
     "data": {
      "image/png": "[encoded data removed]",
      "text/plain": [
       "<Figure size 432x288 with 1 Axes>"
      ]
     },
     "metadata": {
      "needs_background": "light"
     },
     "output_type": "display_data"
    },
    {
     "name": "stdout",
     "output_type": "stream",
     "text": [
      "Columns name: CNT_FAM_MEMBERS\n"
     ]
    },
    {
     "data": {
      "image/png": "[encoded data removed]",
      "text/plain": [
       "<Figure size 432x288 with 1 Axes>"
      ]
     },
     "metadata": {
      "needs_background": "light"
     },
     "output_type": "display_data"
    },
    {
     "name": "stdout",
     "output_type": "stream",
     "text": [
      "Columns name: REGION_RATING_CLIENT\n"
     ]
    },
    {
     "data": {
      "image/png": "[encoded data removed]",
      "text/plain": [
       "<Figure size 432x288 with 1 Axes>"
      ]
     },
     "metadata": {
      "needs_background": "light"
     },
     "output_type": "display_data"
    },
    {
     "name": "stdout",
     "output_type": "stream",
     "text": [
      "Columns name: REGION_RATING_CLIENT_W_CITY\n"
     ]
    },
    {
     "data": {
      "image/png": "[encoded data removed]",
      "text/plain": [
       "<Figure size 432x288 with 1 Axes>"
      ]
     },
     "metadata": {
      "needs_background": "light"
     },
     "output_type": "display_data"
    },
    {
     "name": "stdout",
     "output_type": "stream",
     "text": [
      "Columns name: HOUR_APPR_PROCESS_START\n"
     ]
    },
    {
     "data": {
      "image/png": "[encoded data removed]",
      "text/plain": [
       "<Figure size 432x288 with 1 Axes>"
      ]
     },
     "metadata": {
      "needs_background": "light"
     },
     "output_type": "display_data"
    },
    {
     "name": "stdout",
     "output_type": "stream",
     "text": [
      "Columns name: EXT_SOURCE_1\n"
     ]
    },
    {
     "data": {
      "image/png": "[encoded data removed]",
      "text/plain": [
       "<Figure size 432x288 with 1 Axes>"
      ]
     },
     "metadata": {
      "needs_background": "light"
     },
     "output_type": "display_data"
    },
    {
     "name": "stdout",
     "output_type": "stream",
     "text": [
      "Columns name: EXT_SOURCE_2\n"
     ]
    },
    {
     "data": {
      "image/png": "[encoded data removed]",
      "text/plain": [
       "<Figure size 432x288 with 1 Axes>"
      ]
     },
     "metadata": {
      "needs_background": "light"
     },
     "output_type": "display_data"
    },
    {
     "name": "stdout",
     "output_type": "stream",
     "text": [
      "Columns name: EXT_SOURCE_3\n"
     ]
    },
    {
     "data": {
      "image/png": "[encoded data removed]",
      "text/plain": [
       "<Figure size 432x288 with 1 Axes>"
      ]
     },
     "metadata": {
      "needs_background": "light"
     },
     "output_type": "display_data"
    },
    {
     "name": "stdout",
     "output_type": "stream",
     "text": [
      "Columns name: APARTMENTS_AVG\n"
     ]
    },
    {
     "data": {
      "image/png": "[encoded data removed]",
      "text/plain": [
       "<Figure size 432x288 with 1 Axes>"
      ]
     },
     "metadata": {
      "needs_background": "light"
     },
     "output_type": "display_data"
    },
    {
     "name": "stdout",
     "output_type": "stream",
     "text": [
      "Columns name: BASEMENTAREA_AVG\n"
     ]
    },
    {
     "data": {
      "image/png": "[encoded data removed]",
      "text/plain": [
       "<Figure size 432x288 with 1 Axes>"
      ]
     },
     "metadata": {
      "needs_background": "light"
     },
     "output_type": "display_data"
    },
    {
     "name": "stdout",
     "output_type": "stream",
     "text": [
      "Columns name: YEARS_BEGINEXPLUATATION_AVG\n"
     ]
    },
    {
     "data": {
      "image/png": "[encoded data removed]",
      "text/plain": [
       "<Figure size 432x288 with 1 Axes>"
      ]
     },
     "metadata": {
      "needs_background": "light"
     },
     "output_type": "display_data"
    },
    {
     "name": "stdout",
     "output_type": "stream",
     "text": [
      "Columns name: YEARS_BUILD_AVG\n"
     ]
    },
    {
     "data": {
      "image/png": "[encoded data removed]",
      "text/plain": [
       "<Figure size 432x288 with 1 Axes>"
      ]
     },
     "metadata": {
      "needs_background": "light"
     },
     "output_type": "display_data"
    },
    {
     "name": "stdout",
     "output_type": "stream",
     "text": [
      "Columns name: COMMONAREA_AVG\n"
     ]
    },
    {
     "data": {
      "image/png": "[encoded data removed]",
      "text/plain": [
       "<Figure size 432x288 with 1 Axes>"
      ]
     },
     "metadata": {
      "needs_background": "light"
     },
     "output_type": "display_data"
    },
    {
     "name": "stdout",
     "output_type": "stream",
     "text": [
      "Columns name: ELEVATORS_AVG\n"
     ]
    },
    {
     "data": {
      "image/png": "[encoded data removed]",
      "text/plain": [
       "<Figure size 432x288 with 1 Axes>"
      ]
     },
     "metadata": {
      "needs_background": "light"
     },
     "output_type": "display_data"
    },
    {
     "name": "stdout",
     "output_type": "stream",
     "text": [
      "Columns name: ENTRANCES_AVG\n"
     ]
    },
    {
     "data": {
      "image/png": "[encoded data removed]",
      "text/plain": [
       "<Figure size 432x288 with 1 Axes>"
      ]
     },
     "metadata": {
      "needs_background": "light"
     },
     "output_type": "display_data"
    },
    {
     "name": "stdout",
     "output_type": "stream",
     "text": [
      "Columns name: FLOORSMAX_AVG\n"
     ]
    },
    {
     "data": {
      "image/png": "[encoded data removed]",
      "text/plain": [
       "<Figure size 432x288 with 1 Axes>"
      ]
     },
     "metadata": {
      "needs_background": "light"
     },
     "output_type": "display_data"
    },
    {
     "name": "stdout",
     "output_type": "stream",
     "text": [
      "Columns name: FLOORSMIN_AVG\n"
     ]
    },
    {
     "data": {
      "image/png": "[encoded data removed]",
      "text/plain": [
       "<Figure size 432x288 with 1 Axes>"
      ]
     },
     "metadata": {
      "needs_background": "light"
     },
     "output_type": "display_data"
    },
    {
     "name": "stdout",
     "output_type": "stream",
     "text": [
      "Columns name: LANDAREA_AVG\n"
     ]
    },
    {
     "data": {
      "image/png": "[encoded data removed]",
      "text/plain": [
       "<Figure size 432x288 with 1 Axes>"
      ]
     },
     "metadata": {
      "needs_background": "light"
     },
     "output_type": "display_data"
    },
    {
     "name": "stdout",
     "output_type": "stream",
     "text": [
      "Columns name: LIVINGAPARTMENTS_AVG\n"
     ]
    },
    {
     "data": {
      "image/png": "[encoded data removed]",
      "text/plain": [
       "<Figure size 432x288 with 1 Axes>"
      ]
     },
     "metadata": {
      "needs_background": "light"
     },
     "output_type": "display_data"
    },
    {
     "name": "stdout",
     "output_type": "stream",
     "text": [
      "Columns name: LIVINGAREA_AVG\n"
     ]
    },
    {
     "data": {
      "image/png": "[encoded data removed]",
      "text/plain": [
       "<Figure size 432x288 with 1 Axes>"
      ]
     },
     "metadata": {
      "needs_background": "light"
     },
     "output_type": "display_data"
    },
    {
     "name": "stdout",
     "output_type": "stream",
     "text": [
      "Columns name: NONLIVINGAPARTMENTS_AVG\n"
     ]
    },
    {
     "data": {
      "image/png": "[encoded data removed]",
      "text/plain": [
       "<Figure size 432x288 with 1 Axes>"
      ]
     },
     "metadata": {
      "needs_background": "light"
     },
     "output_type": "display_data"
    },
    {
     "name": "stdout",
     "output_type": "stream",
     "text": [
      "Columns name: NONLIVINGAREA_AVG\n"
     ]
    },
    {
     "data": {
      "image/png": "[encoded data removed]",
      "text/plain": [
       "<Figure size 432x288 with 1 Axes>"
      ]
     },
     "metadata": {
      "needs_background": "light"
     },
     "output_type": "display_data"
    },
    {
     "name": "stdout",
     "output_type": "stream",
     "text": [
      "Columns name: APARTMENTS_MODE\n"
     ]
    },
    {
     "data": {
      "image/png": "[encoded data removed]",
      "text/plain": [
       "<Figure size 432x288 with 1 Axes>"
      ]
     },
     "metadata": {
      "needs_background": "light"
     },
     "output_type": "display_data"
    },
    {
     "name": "stdout",
     "output_type": "stream",
     "text": [
      "Columns name: BASEMENTAREA_MODE\n"
     ]
    },
    {
     "data": {
      "image/png": "[encoded data removed]",
      "text/plain": [
       "<Figure size 432x288 with 1 Axes>"
      ]
     },
     "metadata": {
      "needs_background": "light"
     },
     "output_type": "display_data"
    },
    {
     "name": "stdout",
     "output_type": "stream",
     "text": [
      "Columns name: YEARS_BEGINEXPLUATATION_MODE\n"
     ]
    },
    {
     "data": {
      "image/png": "[encoded data removed]",
      "text/plain": [
       "<Figure size 432x288 with 1 Axes>"
      ]
     },
     "metadata": {
      "needs_background": "light"
     },
     "output_type": "display_data"
    },
    {
     "name": "stdout",
     "output_type": "stream",
     "text": [
      "Columns name: YEARS_BUILD_MODE\n"
     ]
    },
    {
     "data": {
      "image/png": "[encoded data removed]",
      "text/plain": [
       "<Figure size 432x288 with 1 Axes>"
      ]
     },
     "metadata": {
      "needs_background": "light"
     },
     "output_type": "display_data"
    },
    {
     "name": "stdout",
     "output_type": "stream",
     "text": [
      "Columns name: COMMONAREA_MODE\n"
     ]
    },
    {
     "data": {
      "image/png": "[encoded data removed]",
      "text/plain": [
       "<Figure size 432x288 with 1 Axes>"
      ]
     },
     "metadata": {
      "needs_background": "light"
     },
     "output_type": "display_data"
    },
    {
     "name": "stdout",
     "output_type": "stream",
     "text": [
      "Columns name: ELEVATORS_MODE\n"
     ]
    },
    {
     "data": {
      "image/png": "[encoded data removed]",
      "text/plain": [
       "<Figure size 432x288 with 1 Axes>"
      ]
     },
     "metadata": {
      "needs_background": "light"
     },
     "output_type": "display_data"
    },
    {
     "name": "stdout",
     "output_type": "stream",
     "text": [
      "Columns name: ENTRANCES_MODE\n"
     ]
    },
    {
     "data": {
      "image/png": "[encoded data removed]",
      "text/plain": [
       "<Figure size 432x288 with 1 Axes>"
      ]
     },
     "metadata": {
      "needs_background": "light"
     },
     "output_type": "display_data"
    },
    {
     "name": "stdout",
     "output_type": "stream",
     "text": [
      "Columns name: FLOORSMAX_MODE\n"
     ]
    },
    {
     "data": {
      "image/png": "[encoded data removed]",
      "text/plain": [
       "<Figure size 432x288 with 1 Axes>"
      ]
     },
     "metadata": {
      "needs_background": "light"
     },
     "output_type": "display_data"
    },
    {
     "name": "stdout",
     "output_type": "stream",
     "text": [
      "Columns name: FLOORSMIN_MODE\n"
     ]
    },
    {
     "data": {
      "image/png": "[encoded data removed]",
      "text/plain": [
       "<Figure size 432x288 with 1 Axes>"
      ]
     },
     "metadata": {
      "needs_background": "light"
     },
     "output_type": "display_data"
    },
    {
     "name": "stdout",
     "output_type": "stream",
     "text": [
      "Columns name: LANDAREA_MODE\n"
     ]
    },
    {
     "data": {
      "image/png": "[encoded data removed]",
      "text/plain": [
       "<Figure size 432x288 with 1 Axes>"
      ]
     },
     "metadata": {
      "needs_background": "light"
     },
     "output_type": "display_data"
    },
    {
     "name": "stdout",
     "output_type": "stream",
     "text": [
      "Columns name: LIVINGAPARTMENTS_MODE\n"
     ]
    },
    {
     "data": {
      "image/png": "[encoded data removed]",
      "text/plain": [
       "<Figure size 432x288 with 1 Axes>"
      ]
     },
     "metadata": {
      "needs_background": "light"
     },
     "output_type": "display_data"
    },
    {
     "name": "stdout",
     "output_type": "stream",
     "text": [
      "Columns name: LIVINGAREA_MODE\n"
     ]
    },
    {
     "data": {
      "image/png": "[encoded data removed]",
      "text/plain": [
       "<Figure size 432x288 with 1 Axes>"
      ]
     },
     "metadata": {
      "needs_background": "light"
     },
     "output_type": "display_data"
    },
    {
     "name": "stdout",
     "output_type": "stream",
     "text": [
      "Columns name: NONLIVINGAPARTMENTS_MODE\n"
     ]
    },
    {
     "data": {
      "image/png": "[encoded data removed]",
      "text/plain": [
       "<Figure size 432x288 with 1 Axes>"
      ]
     },
     "metadata": {
      "needs_background": "light"
     },
     "output_type": "display_data"
    },
    {
     "name": "stdout",
     "output_type": "stream",
     "text": [
      "Columns name: NONLIVINGAREA_MODE\n"
     ]
    },
    {
     "data": {
      "image/png": "[encoded data removed]",
      "text/plain": [
       "<Figure size 432x288 with 1 Axes>"
      ]
     },
     "metadata": {
      "needs_background": "light"
     },
     "output_type": "display_data"
    },
    {
     "name": "stdout",
     "output_type": "stream",
     "text": [
      "Columns name: APARTMENTS_MEDI\n"
     ]
    },
    {
     "data": {
      "image/png": "[encoded data removed]",
      "text/plain": [
       "<Figure size 432x288 with 1 Axes>"
      ]
     },
     "metadata": {
      "needs_background": "light"
     },
     "output_type": "display_data"
    },
    {
     "name": "stdout",
     "output_type": "stream",
     "text": [
      "Columns name: BASEMENTAREA_MEDI\n"
     ]
    },
    {
     "data": {
      "image/png": "[encoded data removed]",
      "text/plain": [
       "<Figure size 432x288 with 1 Axes>"
      ]
     },
     "metadata": {
      "needs_background": "light"
     },
     "output_type": "display_data"
    },
    {
     "name": "stdout",
     "output_type": "stream",
     "text": [
      "Columns name: YEARS_BEGINEXPLUATATION_MEDI\n"
     ]
    },
    {
     "data": {
      "image/png": "[encoded data removed]",
      "text/plain": [
       "<Figure size 432x288 with 1 Axes>"
      ]
     },
     "metadata": {
      "needs_background": "light"
     },
     "output_type": "display_data"
    },
    {
     "name": "stdout",
     "output_type": "stream",
     "text": [
      "Columns name: YEARS_BUILD_MEDI\n"
     ]
    },
    {
     "data": {
      "image/png": "[encoded data removed]",
      "text/plain": [
       "<Figure size 432x288 with 1 Axes>"
      ]
     },
     "metadata": {
      "needs_background": "light"
     },
     "output_type": "display_data"
    },
    {
     "name": "stdout",
     "output_type": "stream",
     "text": [
      "Columns name: COMMONAREA_MEDI\n"
     ]
    },
    {
     "data": {
      "image/png": "[encoded data removed]",
      "text/plain": [
       "<Figure size 432x288 with 1 Axes>"
      ]
     },
     "metadata": {
      "needs_background": "light"
     },
     "output_type": "display_data"
    },
    {
     "name": "stdout",
     "output_type": "stream",
     "text": [
      "Columns name: ELEVATORS_MEDI\n"
     ]
    },
    {
     "data": {
      "image/png": "[encoded data removed]",
      "text/plain": [
       "<Figure size 432x288 with 1 Axes>"
      ]
     },
     "metadata": {
      "needs_background": "light"
     },
     "output_type": "display_data"
    },
    {
     "name": "stdout",
     "output_type": "stream",
     "text": [
      "Columns name: ENTRANCES_MEDI\n"
     ]
    },
    {
     "data": {
      "image/png": "[encoded data removed]",
      "text/plain": [
       "<Figure size 432x288 with 1 Axes>"
      ]
     },
     "metadata": {
      "needs_background": "light"
     },
     "output_type": "display_data"
    },
    {
     "name": "stdout",
     "output_type": "stream",
     "text": [
      "Columns name: FLOORSMAX_MEDI\n"
     ]
    },
    {
     "data": {
      "image/png": "[encoded data removed]",
      "text/plain": [
       "<Figure size 432x288 with 1 Axes>"
      ]
     },
     "metadata": {
      "needs_background": "light"
     },
     "output_type": "display_data"
    },
    {
     "name": "stdout",
     "output_type": "stream",
     "text": [
      "Columns name: FLOORSMIN_MEDI\n"
     ]
    },
    {
     "data": {
      "image/png": "[encoded data removed]",
      "text/plain": [
       "<Figure size 432x288 with 1 Axes>"
      ]
     },
     "metadata": {
      "needs_background": "light"
     },
     "output_type": "display_data"
    },
    {
     "name": "stdout",
     "output_type": "stream",
     "text": [
      "Columns name: LANDAREA_MEDI\n"
     ]
    },
    {
     "data": {
      "image/png": "[encoded data removed]",
      "text/plain": [
       "<Figure size 432x288 with 1 Axes>"
      ]
     },
     "metadata": {
      "needs_background": "light"
     },
     "output_type": "display_data"
    },
    {
     "name": "stdout",
     "output_type": "stream",
     "text": [
      "Columns name: LIVINGAPARTMENTS_MEDI\n"
     ]
    },
    {
     "data": {
      "image/png": "[encoded data removed]",
      "text/plain": [
       "<Figure size 432x288 with 1 Axes>"
      ]
     },
     "metadata": {
      "needs_background": "light"
     },
     "output_type": "display_data"
    },
    {
     "name": "stdout",
     "output_type": "stream",
     "text": [
      "Columns name: LIVINGAREA_MEDI\n"
     ]
    },
    {
     "data": {
      "image/png": "[encoded data removed]",
      "text/plain": [
       "<Figure size 432x288 with 1 Axes>"
      ]
     },
     "metadata": {
      "needs_background": "light"
     },
     "output_type": "display_data"
    },
    {
     "name": "stdout",
     "output_type": "stream",
     "text": [
      "Columns name: NONLIVINGAPARTMENTS_MEDI\n"
     ]
    },
    {
     "data": {
      "image/png": "[encoded data removed]",
      "text/plain": [
       "<Figure size 432x288 with 1 Axes>"
      ]
     },
     "metadata": {
      "needs_background": "light"
     },
     "output_type": "display_data"
    },
    {
     "name": "stdout",
     "output_type": "stream",
     "text": [
      "Columns name: NONLIVINGAREA_MEDI\n"
     ]
    },
    {
     "data": {
      "image/png": "[encoded data removed]",
      "text/plain": [
       "<Figure size 432x288 with 1 Axes>"
      ]
     },
     "metadata": {
      "needs_background": "light"
     },
     "output_type": "display_data"
    },
    {
     "name": "stdout",
     "output_type": "stream",
     "text": [
      "Columns name: TOTALAREA_MODE\n"
     ]
    },
    {
     "data": {
      "image/png": "[encoded data removed]",
      "text/plain": [
       "<Figure size 432x288 with 1 Axes>"
      ]
     },
     "metadata": {
      "needs_background": "light"
     },
     "output_type": "display_data"
    },
    {
     "name": "stdout",
     "output_type": "stream",
     "text": [
      "Columns name: OBS_30_CNT_SOCIAL_CIRCLE\n"
     ]
    },
    {
     "data": {
      "image/png": "[encoded data removed]",
      "text/plain": [
       "<Figure size 432x288 with 1 Axes>"
      ]
     },
     "metadata": {
      "needs_background": "light"
     },
     "output_type": "display_data"
    },
    {
     "name": "stdout",
     "output_type": "stream",
     "text": [
      "Columns name: DEF_30_CNT_SOCIAL_CIRCLE\n"
     ]
    },
    {
     "data": {
      "image/png": "[encoded data removed]",
      "text/plain": [
       "<Figure size 432x288 with 1 Axes>"
      ]
     },
     "metadata": {
      "needs_background": "light"
     },
     "output_type": "display_data"
    },
    {
     "name": "stdout",
     "output_type": "stream",
     "text": [
      "Columns name: OBS_60_CNT_SOCIAL_CIRCLE\n"
     ]
    },
    {
     "data": {
      "image/png": "[encoded data removed]",
      "text/plain": [
       "<Figure size 432x288 with 1 Axes>"
      ]
     },
     "metadata": {
      "needs_background": "light"
     },
     "output_type": "display_data"
    },
    {
     "name": "stdout",
     "output_type": "stream",
     "text": [
      "Columns name: DEF_60_CNT_SOCIAL_CIRCLE\n"
     ]
    },
    {
     "data": {
      "image/png": "[encoded data removed]",
      "text/plain": [
       "<Figure size 432x288 with 1 Axes>"
      ]
     },
     "metadata": {
      "needs_background": "light"
     },
     "output_type": "display_data"
    },
    {
     "name": "stdout",
     "output_type": "stream",
     "text": [
      "Columns name: DAYS_LAST_PHONE_CHANGE\n"
     ]
    },
    {
     "data": {
      "image/png": "[encoded data removed]",
      "text/plain": [
       "<Figure size 432x288 with 1 Axes>"
      ]
     },
     "metadata": {
      "needs_background": "light"
     },
     "output_type": "display_data"
    },
    {
     "name": "stdout",
     "output_type": "stream",
     "text": [
      "Columns name: AMT_REQ_CREDIT_BUREAU_HOUR\n"
     ]
    },
    {
     "data": {
      "image/png": "[encoded data removed]",
      "text/plain": [
       "<Figure size 432x288 with 1 Axes>"
      ]
     },
     "metadata": {
      "needs_background": "light"
     },
     "output_type": "display_data"
    },
    {
     "name": "stdout",
     "output_type": "stream",
     "text": [
      "Columns name: AMT_REQ_CREDIT_BUREAU_DAY\n"
     ]
    },
    {
     "data": {
      "image/png": "[encoded data removed]",
      "text/plain": [
       "<Figure size 432x288 with 1 Axes>"
      ]
     },
     "metadata": {
      "needs_background": "light"
     },
     "output_type": "display_data"
    },
    {
     "name": "stdout",
     "output_type": "stream",
     "text": [
      "Columns name: AMT_REQ_CREDIT_BUREAU_WEEK\n"
     ]
    },
    {
     "data": {
      "image/png": "[encoded data removed]",
      "text/plain": [
       "<Figure size 432x288 with 1 Axes>"
      ]
     },
     "metadata": {
      "needs_background": "light"
     },
     "output_type": "display_data"
    },
    {
     "name": "stdout",
     "output_type": "stream",
     "text": [
      "Columns name: AMT_REQ_CREDIT_BUREAU_MON\n"
     ]
    },
    {
     "data": {
      "image/png": "[encoded data removed]",
      "text/plain": [
       "<Figure size 432x288 with 1 Axes>"
      ]
     },
     "metadata": {
      "needs_background": "light"
     },
     "output_type": "display_data"
    },
    {
     "name": "stdout",
     "output_type": "stream",
     "text": [
      "Columns name: AMT_REQ_CREDIT_BUREAU_QRT\n"
     ]
    },
    {
     "data": {
      "image/png": "[encoded data removed]",
      "text/plain": [
       "<Figure size 432x288 with 1 Axes>"
      ]
     },
     "metadata": {
      "needs_background": "light"
     },
     "output_type": "display_data"
    },
    {
     "name": "stdout",
     "output_type": "stream",
     "text": [
      "Columns name: AMT_REQ_CREDIT_BUREAU_YEAR\n"
     ]
    },
    {
     "data": {
      "image/png": "[encoded data removed]",
      "text/plain": [
       "<Figure size 432x288 with 1 Axes>"
      ]
     },
     "metadata": {
      "needs_background": "light"
     },
     "output_type": "display_data"
    }
   ],
   "source": [
    "# 檢視這些欄位的數值範圍\n",
    "for col in numeric_columns:\n",
    "    \"\"\"\n",
    "    Your CODE HERE, make the box plot\n",
    "    \"\"\"\n",
    "    print('Columns name:', col)\n",
    "    plt.boxplot(numeric_data[col])\n",
    "    plt.show()"
   ]
  },
  {
   "cell_type": "code",
   "execution_count": 8,
   "metadata": {},
   "outputs": [],
   "source": [
    "#發現有許多圖是空白的，觀察後發現應該是因為有空值造成的，試試移除有空值的欄位，避免影響做圖\n",
    "drop_value = numeric_data.dropna()"
   ]
  },
  {
   "cell_type": "code",
   "execution_count": 9,
   "metadata": {},
   "outputs": [
    {
     "name": "stdout",
     "output_type": "stream",
     "text": [
      "Columns name: SK_ID_CURR\n"
     ]
    },
    {
     "data": {
      "image/png": "[encoded data removed]",
      "text/plain": [
       "<Figure size 432x288 with 1 Axes>"
      ]
     },
     "metadata": {
      "needs_background": "light"
     },
     "output_type": "display_data"
    },
    {
     "name": "stdout",
     "output_type": "stream",
     "text": [
      "Columns name: CNT_CHILDREN\n"
     ]
    },
    {
     "data": {
      "image/png": "[encoded data removed]",
      "text/plain": [
       "<Figure size 432x288 with 1 Axes>"
      ]
     },
     "metadata": {
      "needs_background": "light"
     },
     "output_type": "display_data"
    },
    {
     "name": "stdout",
     "output_type": "stream",
     "text": [
      "Columns name: AMT_INCOME_TOTAL\n"
     ]
    },
    {
     "data": {
      "image/png": "[encoded data removed]",
      "text/plain": [
       "<Figure size 432x288 with 1 Axes>"
      ]
     },
     "metadata": {
      "needs_background": "light"
     },
     "output_type": "display_data"
    },
    {
     "name": "stdout",
     "output_type": "stream",
     "text": [
      "Columns name: AMT_CREDIT\n"
     ]
    },
    {
     "data": {
      "image/png": "[encoded data removed]",
      "text/plain": [
       "<Figure size 432x288 with 1 Axes>"
      ]
     },
     "metadata": {
      "needs_background": "light"
     },
     "output_type": "display_data"
    },
    {
     "name": "stdout",
     "output_type": "stream",
     "text": [
      "Columns name: AMT_ANNUITY\n"
     ]
    },
    {
     "data": {
      "image/png": "[encoded data removed]",
      "text/plain": [
       "<Figure size 432x288 with 1 Axes>"
      ]
     },
     "metadata": {
      "needs_background": "light"
     },
     "output_type": "display_data"
    },
    {
     "name": "stdout",
     "output_type": "stream",
     "text": [
      "Columns name: AMT_GOODS_PRICE\n"
     ]
    },
    {
     "data": {
      "image/png": "[encoded data removed]",
      "text/plain": [
       "<Figure size 432x288 with 1 Axes>"
      ]
     },
     "metadata": {
      "needs_background": "light"
     },
     "output_type": "display_data"
    },
    {
     "name": "stdout",
     "output_type": "stream",
     "text": [
      "Columns name: REGION_POPULATION_RELATIVE\n"
     ]
    },
    {
     "data": {
      "image/png": "[encoded data removed]",
      "text/plain": [
       "<Figure size 432x288 with 1 Axes>"
      ]
     },
     "metadata": {
      "needs_background": "light"
     },
     "output_type": "display_data"
    },
    {
     "name": "stdout",
     "output_type": "stream",
     "text": [
      "Columns name: DAYS_BIRTH\n"
     ]
    },
    {
     "data": {
      "image/png": "[encoded data removed]",
      "text/plain": [
       "<Figure size 432x288 with 1 Axes>"
      ]
     },
     "metadata": {
      "needs_background": "light"
     },
     "output_type": "display_data"
    },
    {
     "name": "stdout",
     "output_type": "stream",
     "text": [
      "Columns name: DAYS_EMPLOYED\n"
     ]
    },
    {
     "data": {
      "image/png": "[encoded data removed]",
      "text/plain": [
       "<Figure size 432x288 with 1 Axes>"
      ]
     },
     "metadata": {
      "needs_background": "light"
     },
     "output_type": "display_data"
    },
    {
     "name": "stdout",
     "output_type": "stream",
     "text": [
      "Columns name: DAYS_REGISTRATION\n"
     ]
    },
    {
     "data": {
      "image/png": "[encoded data removed]",
      "text/plain": [
       "<Figure size 432x288 with 1 Axes>"
      ]
     },
     "metadata": {
      "needs_background": "light"
     },
     "output_type": "display_data"
    },
    {
     "name": "stdout",
     "output_type": "stream",
     "text": [
      "Columns name: DAYS_ID_PUBLISH\n"
     ]
    },
    {
     "data": {
      "image/png": "[encoded data removed]",
      "text/plain": [
       "<Figure size 432x288 with 1 Axes>"
      ]
     },
     "metadata": {
      "needs_background": "light"
     },
     "output_type": "display_data"
    },
    {
     "name": "stdout",
     "output_type": "stream",
     "text": [
      "Columns name: OWN_CAR_AGE\n"
     ]
    },
    {
     "data": {
      "image/png": "[encoded data removed]",
      "text/plain": [
       "<Figure size 432x288 with 1 Axes>"
      ]
     },
     "metadata": {
      "needs_background": "light"
     },
     "output_type": "display_data"
    },
    {
     "name": "stdout",
     "output_type": "stream",
     "text": [
      "Columns name: CNT_FAM_MEMBERS\n"
     ]
    },
    {
     "data": {
      "image/png": "[encoded data removed]",
      "text/plain": [
       "<Figure size 432x288 with 1 Axes>"
      ]
     },
     "metadata": {
      "needs_background": "light"
     },
     "output_type": "display_data"
    },
    {
     "name": "stdout",
     "output_type": "stream",
     "text": [
      "Columns name: REGION_RATING_CLIENT\n"
     ]
    },
    {
     "data": {
      "image/png": "[encoded data removed]",
      "text/plain": [
       "<Figure size 432x288 with 1 Axes>"
      ]
     },
     "metadata": {
      "needs_background": "light"
     },
     "output_type": "display_data"
    },
    {
     "name": "stdout",
     "output_type": "stream",
     "text": [
      "Columns name: REGION_RATING_CLIENT_W_CITY\n"
     ]
    },
    {
     "data": {
      "image/png": "[encoded data removed]",
      "text/plain": [
       "<Figure size 432x288 with 1 Axes>"
      ]
     },
     "metadata": {
      "needs_background": "light"
     },
     "output_type": "display_data"
    },
    {
     "name": "stdout",
     "output_type": "stream",
     "text": [
      "Columns name: HOUR_APPR_PROCESS_START\n"
     ]
    },
    {
     "data": {
      "image/png": "[encoded data removed]",
      "text/plain": [
       "<Figure size 432x288 with 1 Axes>"
      ]
     },
     "metadata": {
      "needs_background": "light"
     },
     "output_type": "display_data"
    },
    {
     "name": "stdout",
     "output_type": "stream",
     "text": [
      "Columns name: EXT_SOURCE_1\n"
     ]
    },
    {
     "data": {
      "image/png": "[encoded data removed]",
      "text/plain": [
       "<Figure size 432x288 with 1 Axes>"
      ]
     },
     "metadata": {
      "needs_background": "light"
     },
     "output_type": "display_data"
    },
    {
     "name": "stdout",
     "output_type": "stream",
     "text": [
      "Columns name: EXT_SOURCE_2\n"
     ]
    },
    {
     "data": {
      "image/png": "[encoded data removed]",
      "text/plain": [
       "<Figure size 432x288 with 1 Axes>"
      ]
     },
     "metadata": {
      "needs_background": "light"
     },
     "output_type": "display_data"
    },
    {
     "name": "stdout",
     "output_type": "stream",
     "text": [
      "Columns name: EXT_SOURCE_3\n"
     ]
    },
    {
     "data": {
      "image/png": "[encoded data removed]",
      "text/plain": [
       "<Figure size 432x288 with 1 Axes>"
      ]
     },
     "metadata": {
      "needs_background": "light"
     },
     "output_type": "display_data"
    },
    {
     "name": "stdout",
     "output_type": "stream",
     "text": [
      "Columns name: APARTMENTS_AVG\n"
     ]
    },
    {
     "data": {
      "image/png": "[encoded data removed]",
      "text/plain": [
       "<Figure size 432x288 with 1 Axes>"
      ]
     },
     "metadata": {
      "needs_background": "light"
     },
     "output_type": "display_data"
    },
    {
     "name": "stdout",
     "output_type": "stream",
     "text": [
      "Columns name: BASEMENTAREA_AVG\n"
     ]
    },
    {
     "data": {
      "image/png": "[encoded data removed]",
      "text/plain": [
       "<Figure size 432x288 with 1 Axes>"
      ]
     },
     "metadata": {
      "needs_background": "light"
     },
     "output_type": "display_data"
    },
    {
     "name": "stdout",
     "output_type": "stream",
     "text": [
      "Columns name: YEARS_BEGINEXPLUATATION_AVG\n"
     ]
    },
    {
     "data": {
      "image/png": "[encoded data removed]",
      "text/plain": [
       "<Figure size 432x288 with 1 Axes>"
      ]
     },
     "metadata": {
      "needs_background": "light"
     },
     "output_type": "display_data"
    },
    {
     "name": "stdout",
     "output_type": "stream",
     "text": [
      "Columns name: YEARS_BUILD_AVG\n"
     ]
    },
    {
     "data": {
      "image/png": "[encoded data removed]",
      "text/plain": [
       "<Figure size 432x288 with 1 Axes>"
      ]
     },
     "metadata": {
      "needs_background": "light"
     },
     "output_type": "display_data"
    },
    {
     "name": "stdout",
     "output_type": "stream",
     "text": [
      "Columns name: COMMONAREA_AVG\n"
     ]
    },
    {
     "data": {
      "image/png": "[encoded data removed]",
      "text/plain": [
       "<Figure size 432x288 with 1 Axes>"
      ]
     },
     "metadata": {
      "needs_background": "light"
     },
     "output_type": "display_data"
    },
    {
     "name": "stdout",
     "output_type": "stream",
     "text": [
      "Columns name: ELEVATORS_AVG\n"
     ]
    },
    {
     "data": {
      "image/png": "[encoded data removed]",
      "text/plain": [
       "<Figure size 432x288 with 1 Axes>"
      ]
     },
     "metadata": {
      "needs_background": "light"
     },
     "output_type": "display_data"
    },
    {
     "name": "stdout",
     "output_type": "stream",
     "text": [
      "Columns name: ENTRANCES_AVG\n"
     ]
    },
    {
     "data": {
      "image/png": "[encoded data removed]",
      "text/plain": [
       "<Figure size 432x288 with 1 Axes>"
      ]
     },
     "metadata": {
      "needs_background": "light"
     },
     "output_type": "display_data"
    },
    {
     "name": "stdout",
     "output_type": "stream",
     "text": [
      "Columns name: FLOORSMAX_AVG\n"
     ]
    },
    {
     "data": {
      "image/png": "[encoded data removed]",
      "text/plain": [
       "<Figure size 432x288 with 1 Axes>"
      ]
     },
     "metadata": {
      "needs_background": "light"
     },
     "output_type": "display_data"
    },
    {
     "name": "stdout",
     "output_type": "stream",
     "text": [
      "Columns name: FLOORSMIN_AVG\n"
     ]
    },
    {
     "data": {
      "image/png": "[encoded data removed]",
      "text/plain": [
       "<Figure size 432x288 with 1 Axes>"
      ]
     },
     "metadata": {
      "needs_background": "light"
     },
     "output_type": "display_data"
    },
    {
     "name": "stdout",
     "output_type": "stream",
     "text": [
      "Columns name: LANDAREA_AVG\n"
     ]
    },
    {
     "data": {
      "image/png": "[encoded data removed]",
      "text/plain": [
       "<Figure size 432x288 with 1 Axes>"
      ]
     },
     "metadata": {
      "needs_background": "light"
     },
     "output_type": "display_data"
    },
    {
     "name": "stdout",
     "output_type": "stream",
     "text": [
      "Columns name: LIVINGAPARTMENTS_AVG\n"
     ]
    },
    {
     "data": {
      "image/png": "[encoded data removed]",
      "text/plain": [
       "<Figure size 432x288 with 1 Axes>"
      ]
     },
     "metadata": {
      "needs_background": "light"
     },
     "output_type": "display_data"
    },
    {
     "name": "stdout",
     "output_type": "stream",
     "text": [
      "Columns name: LIVINGAREA_AVG\n"
     ]
    },
    {
     "data": {
      "image/png": "[encoded data removed]",
      "text/plain": [
       "<Figure size 432x288 with 1 Axes>"
      ]
     },
     "metadata": {
      "needs_background": "light"
     },
     "output_type": "display_data"
    },
    {
     "name": "stdout",
     "output_type": "stream",
     "text": [
      "Columns name: NONLIVINGAPARTMENTS_AVG\n"
     ]
    },
    {
     "data": {
      "image/png": "[encoded data removed]",
      "text/plain": [
       "<Figure size 432x288 with 1 Axes>"
      ]
     },
     "metadata": {
      "needs_background": "light"
     },
     "output_type": "display_data"
    },
    {
     "name": "stdout",
     "output_type": "stream",
     "text": [
      "Columns name: NONLIVINGAREA_AVG\n"
     ]
    },
    {
     "data": {
      "image/png": "[encoded data removed]",
      "text/plain": [
       "<Figure size 432x288 with 1 Axes>"
      ]
     },
     "metadata": {
      "needs_background": "light"
     },
     "output_type": "display_data"
    },
    {
     "name": "stdout",
     "output_type": "stream",
     "text": [
      "Columns name: APARTMENTS_MODE\n"
     ]
    },
    {
     "data": {
      "image/png": "[encoded data removed]",
      "text/plain": [
       "<Figure size 432x288 with 1 Axes>"
      ]
     },
     "metadata": {
      "needs_background": "light"
     },
     "output_type": "display_data"
    },
    {
     "name": "stdout",
     "output_type": "stream",
     "text": [
      "Columns name: BASEMENTAREA_MODE\n"
     ]
    },
    {
     "data": {
      "image/png": "[encoded data removed]",
      "text/plain": [
       "<Figure size 432x288 with 1 Axes>"
      ]
     },
     "metadata": {
      "needs_background": "light"
     },
     "output_type": "display_data"
    },
    {
     "name": "stdout",
     "output_type": "stream",
     "text": [
      "Columns name: YEARS_BEGINEXPLUATATION_MODE\n"
     ]
    },
    {
     "data": {
      "image/png": "[encoded data removed]",
      "text/plain": [
       "<Figure size 432x288 with 1 Axes>"
      ]
     },
     "metadata": {
      "needs_background": "light"
     },
     "output_type": "display_data"
    },
    {
     "name": "stdout",
     "output_type": "stream",
     "text": [
      "Columns name: YEARS_BUILD_MODE\n"
     ]
    },
    {
     "data": {
      "image/png": "[encoded data removed]",
      "text/plain": [
       "<Figure size 432x288 with 1 Axes>"
      ]
     },
     "metadata": {
      "needs_background": "light"
     },
     "output_type": "display_data"
    },
    {
     "name": "stdout",
     "output_type": "stream",
     "text": [
      "Columns name: COMMONAREA_MODE\n"
     ]
    },
    {
     "data": {
      "image/png": "[encoded data removed]",
      "text/plain": [
       "<Figure size 432x288 with 1 Axes>"
      ]
     },
     "metadata": {
      "needs_background": "light"
     },
     "output_type": "display_data"
    },
    {
     "name": "stdout",
     "output_type": "stream",
     "text": [
      "Columns name: ELEVATORS_MODE\n"
     ]
    },
    {
     "data": {
      "image/png": "[encoded data removed]",
      "text/plain": [
       "<Figure size 432x288 with 1 Axes>"
      ]
     },
     "metadata": {
      "needs_background": "light"
     },
     "output_type": "display_data"
    },
    {
     "name": "stdout",
     "output_type": "stream",
     "text": [
      "Columns name: ENTRANCES_MODE\n"
     ]
    },
    {
     "data": {
      "image/png": "[encoded data removed]",
      "text/plain": [
       "<Figure size 432x288 with 1 Axes>"
      ]
     },
     "metadata": {
      "needs_background": "light"
     },
     "output_type": "display_data"
    },
    {
     "name": "stdout",
     "output_type": "stream",
     "text": [
      "Columns name: FLOORSMAX_MODE\n"
     ]
    },
    {
     "data": {
      "image/png": "[encoded data removed]",
      "text/plain": [
       "<Figure size 432x288 with 1 Axes>"
      ]
     },
     "metadata": {
      "needs_background": "light"
     },
     "output_type": "display_data"
    },
    {
     "name": "stdout",
     "output_type": "stream",
     "text": [
      "Columns name: FLOORSMIN_MODE\n"
     ]
    },
    {
     "data": {
      "image/png": "[encoded data removed]",
      "text/plain": [
       "<Figure size 432x288 with 1 Axes>"
      ]
     },
     "metadata": {
      "needs_background": "light"
     },
     "output_type": "display_data"
    },
    {
     "name": "stdout",
     "output_type": "stream",
     "text": [
      "Columns name: LANDAREA_MODE\n"
     ]
    },
    {
     "data": {
      "image/png": "[encoded data removed]",
      "text/plain": [
       "<Figure size 432x288 with 1 Axes>"
      ]
     },
     "metadata": {
      "needs_background": "light"
     },
     "output_type": "display_data"
    },
    {
     "name": "stdout",
     "output_type": "stream",
     "text": [
      "Columns name: LIVINGAPARTMENTS_MODE\n"
     ]
    },
    {
     "data": {
      "image/png": "[encoded data removed]",
      "text/plain": [
       "<Figure size 432x288 with 1 Axes>"
      ]
     },
     "metadata": {
      "needs_background": "light"
     },
     "output_type": "display_data"
    },
    {
     "name": "stdout",
     "output_type": "stream",
     "text": [
      "Columns name: LIVINGAREA_MODE\n"
     ]
    },
    {
     "data": {
      "image/png": "[encoded data removed]",
      "text/plain": [
       "<Figure size 432x288 with 1 Axes>"
      ]
     },
     "metadata": {
      "needs_background": "light"
     },
     "output_type": "display_data"
    },
    {
     "name": "stdout",
     "output_type": "stream",
     "text": [
      "Columns name: NONLIVINGAPARTMENTS_MODE\n"
     ]
    },
    {
     "data": {
      "image/png": "[encoded data removed]",
      "text/plain": [
       "<Figure size 432x288 with 1 Axes>"
      ]
     },
     "metadata": {
      "needs_background": "light"
     },
     "output_type": "display_data"
    },
    {
     "name": "stdout",
     "output_type": "stream",
     "text": [
      "Columns name: NONLIVINGAREA_MODE\n"
     ]
    },
    {
     "data": {
      "image/png": "[encoded data removed]",
      "text/plain": [
       "<Figure size 432x288 with 1 Axes>"
      ]
     },
     "metadata": {
      "needs_background": "light"
     },
     "output_type": "display_data"
    },
    {
     "name": "stdout",
     "output_type": "stream",
     "text": [
      "Columns name: APARTMENTS_MEDI\n"
     ]
    },
    {
     "data": {
      "image/png": "[encoded data removed]",
      "text/plain": [
       "<Figure size 432x288 with 1 Axes>"
      ]
     },
     "metadata": {
      "needs_background": "light"
     },
     "output_type": "display_data"
    },
    {
     "name": "stdout",
     "output_type": "stream",
     "text": [
      "Columns name: BASEMENTAREA_MEDI\n"
     ]
    },
    {
     "data": {
      "image/png": "[encoded data removed]",
      "text/plain": [
       "<Figure size 432x288 with 1 Axes>"
      ]
     },
     "metadata": {
      "needs_background": "light"
     },
     "output_type": "display_data"
    },
    {
     "name": "stdout",
     "output_type": "stream",
     "text": [
      "Columns name: YEARS_BEGINEXPLUATATION_MEDI\n"
     ]
    },
    {
     "data": {
      "image/png": "[encoded data removed]",
      "text/plain": [
       "<Figure size 432x288 with 1 Axes>"
      ]
     },
     "metadata": {
      "needs_background": "light"
     },
     "output_type": "display_data"
    },
    {
     "name": "stdout",
     "output_type": "stream",
     "text": [
      "Columns name: YEARS_BUILD_MEDI\n"
     ]
    },
    {
     "data": {
      "image/png": "[encoded data removed]",
      "text/plain": [
       "<Figure size 432x288 with 1 Axes>"
      ]
     },
     "metadata": {
      "needs_background": "light"
     },
     "output_type": "display_data"
    },
    {
     "name": "stdout",
     "output_type": "stream",
     "text": [
      "Columns name: COMMONAREA_MEDI\n"
     ]
    },
    {
     "data": {
      "image/png": "[encoded data removed]",
      "text/plain": [
       "<Figure size 432x288 with 1 Axes>"
      ]
     },
     "metadata": {
      "needs_background": "light"
     },
     "output_type": "display_data"
    },
    {
     "name": "stdout",
     "output_type": "stream",
     "text": [
      "Columns name: ELEVATORS_MEDI\n"
     ]
    },
    {
     "data": {
      "image/png": "[encoded data removed]",
      "text/plain": [
       "<Figure size 432x288 with 1 Axes>"
      ]
     },
     "metadata": {
      "needs_background": "light"
     },
     "output_type": "display_data"
    },
    {
     "name": "stdout",
     "output_type": "stream",
     "text": [
      "Columns name: ENTRANCES_MEDI\n"
     ]
    },
    {
     "data": {
      "image/png": "[encoded data removed]",
      "text/plain": [
       "<Figure size 432x288 with 1 Axes>"
      ]
     },
     "metadata": {
      "needs_background": "light"
     },
     "output_type": "display_data"
    },
    {
     "name": "stdout",
     "output_type": "stream",
     "text": [
      "Columns name: FLOORSMAX_MEDI\n"
     ]
    },
    {
     "data": {
      "image/png": "[encoded data removed]",
      "text/plain": [
       "<Figure size 432x288 with 1 Axes>"
      ]
     },
     "metadata": {
      "needs_background": "light"
     },
     "output_type": "display_data"
    },
    {
     "name": "stdout",
     "output_type": "stream",
     "text": [
      "Columns name: FLOORSMIN_MEDI\n"
     ]
    },
    {
     "data": {
      "image/png": "[encoded data removed]",
      "text/plain": [
       "<Figure size 432x288 with 1 Axes>"
      ]
     },
     "metadata": {
      "needs_background": "light"
     },
     "output_type": "display_data"
    },
    {
     "name": "stdout",
     "output_type": "stream",
     "text": [
      "Columns name: LANDAREA_MEDI\n"
     ]
    },
    {
     "data": {
      "image/png": "[encoded data removed]",
      "text/plain": [
       "<Figure size 432x288 with 1 Axes>"
      ]
     },
     "metadata": {
      "needs_background": "light"
     },
     "output_type": "display_data"
    },
    {
     "name": "stdout",
     "output_type": "stream",
     "text": [
      "Columns name: LIVINGAPARTMENTS_MEDI\n"
     ]
    },
    {
     "data": {
      "image/png": "[encoded data removed]",
      "text/plain": [
       "<Figure size 432x288 with 1 Axes>"
      ]
     },
     "metadata": {
      "needs_background": "light"
     },
     "output_type": "display_data"
    },
    {
     "name": "stdout",
     "output_type": "stream",
     "text": [
      "Columns name: LIVINGAREA_MEDI\n"
     ]
    },
    {
     "data": {
      "image/png": "[encoded data removed]",
      "text/plain": [
       "<Figure size 432x288 with 1 Axes>"
      ]
     },
     "metadata": {
      "needs_background": "light"
     },
     "output_type": "display_data"
    },
    {
     "name": "stdout",
     "output_type": "stream",
     "text": [
      "Columns name: NONLIVINGAPARTMENTS_MEDI\n"
     ]
    },
    {
     "data": {
      "image/png": "[encoded data removed]",
      "text/plain": [
       "<Figure size 432x288 with 1 Axes>"
      ]
     },
     "metadata": {
      "needs_background": "light"
     },
     "output_type": "display_data"
    },
    {
     "name": "stdout",
     "output_type": "stream",
     "text": [
      "Columns name: NONLIVINGAREA_MEDI\n"
     ]
    },
    {
     "data": {
      "image/png": "[encoded data removed]",
      "text/plain": [
       "<Figure size 432x288 with 1 Axes>"
      ]
     },
     "metadata": {
      "needs_background": "light"
     },
     "output_type": "display_data"
    },
    {
     "name": "stdout",
     "output_type": "stream",
     "text": [
      "Columns name: TOTALAREA_MODE\n"
     ]
    },
    {
     "data": {
      "image/png": "[encoded data removed]",
      "text/plain": [
       "<Figure size 432x288 with 1 Axes>"
      ]
     },
     "metadata": {
      "needs_background": "light"
     },
     "output_type": "display_data"
    },
    {
     "name": "stdout",
     "output_type": "stream",
     "text": [
      "Columns name: OBS_30_CNT_SOCIAL_CIRCLE\n"
     ]
    },
    {
     "data": {
      "image/png": "[encoded data removed]",
      "text/plain": [
       "<Figure size 432x288 with 1 Axes>"
      ]
     },
     "metadata": {
      "needs_background": "light"
     },
     "output_type": "display_data"
    },
    {
     "name": "stdout",
     "output_type": "stream",
     "text": [
      "Columns name: DEF_30_CNT_SOCIAL_CIRCLE\n"
     ]
    },
    {
     "data": {
      "image/png": "[encoded data removed]",
      "text/plain": [
       "<Figure size 432x288 with 1 Axes>"
      ]
     },
     "metadata": {
      "needs_background": "light"
     },
     "output_type": "display_data"
    },
    {
     "name": "stdout",
     "output_type": "stream",
     "text": [
      "Columns name: OBS_60_CNT_SOCIAL_CIRCLE\n"
     ]
    },
    {
     "data": {
      "image/png": "[encoded data removed]",
      "text/plain": [
       "<Figure size 432x288 with 1 Axes>"
      ]
     },
     "metadata": {
      "needs_background": "light"
     },
     "output_type": "display_data"
    },
    {
     "name": "stdout",
     "output_type": "stream",
     "text": [
      "Columns name: DEF_60_CNT_SOCIAL_CIRCLE\n"
     ]
    },
    {
     "data": {
      "image/png": "[encoded data removed]",
      "text/plain": [
       "<Figure size 432x288 with 1 Axes>"
      ]
     },
     "metadata": {
      "needs_background": "light"
     },
     "output_type": "display_data"
    },
    {
     "name": "stdout",
     "output_type": "stream",
     "text": [
      "Columns name: DAYS_LAST_PHONE_CHANGE\n"
     ]
    },
    {
     "data": {
      "image/png": "[encoded data removed]",
      "text/plain": [
       "<Figure size 432x288 with 1 Axes>"
      ]
     },
     "metadata": {
      "needs_background": "light"
     },
     "output_type": "display_data"
    },
    {
     "name": "stdout",
     "output_type": "stream",
     "text": [
      "Columns name: AMT_REQ_CREDIT_BUREAU_HOUR\n"
     ]
    },
    {
     "data": {
      "image/png": "[encoded data removed]",
      "text/plain": [
       "<Figure size 432x288 with 1 Axes>"
      ]
     },
     "metadata": {
      "needs_background": "light"
     },
     "output_type": "display_data"
    },
    {
     "name": "stdout",
     "output_type": "stream",
     "text": [
      "Columns name: AMT_REQ_CREDIT_BUREAU_DAY\n"
     ]
    },
    {
     "data": {
      "image/png": "[encoded data removed]",
      "text/plain": [
       "<Figure size 432x288 with 1 Axes>"
      ]
     },
     "metadata": {
      "needs_background": "light"
     },
     "output_type": "display_data"
    },
    {
     "name": "stdout",
     "output_type": "stream",
     "text": [
      "Columns name: AMT_REQ_CREDIT_BUREAU_WEEK\n"
     ]
    },
    {
     "data": {
      "image/png": "[encoded data removed]",
      "text/plain": [
       "<Figure size 432x288 with 1 Axes>"
      ]
     },
     "metadata": {
      "needs_background": "light"
     },
     "output_type": "display_data"
    },
    {
     "name": "stdout",
     "output_type": "stream",
     "text": [
      "Columns name: AMT_REQ_CREDIT_BUREAU_MON\n"
     ]
    },
    {
     "data": {
      "image/png": "[encoded data removed]",
      "text/plain": [
       "<Figure size 432x288 with 1 Axes>"
      ]
     },
     "metadata": {
      "needs_background": "light"
     },
     "output_type": "display_data"
    },
    {
     "name": "stdout",
     "output_type": "stream",
     "text": [
      "Columns name: AMT_REQ_CREDIT_BUREAU_QRT\n"
     ]
    },
    {
     "data": {
      "image/png": "[encoded data removed]",
      "text/plain": [
       "<Figure size 432x288 with 1 Axes>"
      ]
     },
     "metadata": {
      "needs_background": "light"
     },
     "output_type": "display_data"
    },
    {
     "name": "stdout",
     "output_type": "stream",
     "text": [
      "Columns name: AMT_REQ_CREDIT_BUREAU_YEAR\n"
     ]
    },
    {
     "data": {
      "image/png": "[encoded data removed]",
      "text/plain": [
       "<Figure size 432x288 with 1 Axes>"
      ]
     },
     "metadata": {
      "needs_background": "light"
     },
     "output_type": "display_data"
    }
   ],
   "source": [
    "# 檢視這些欄位的數值範圍\n",
    "for col in numeric_columns:\n",
    "    \"\"\"\n",
    "    Your CODE HERE, make the box plot\n",
    "    \"\"\"\n",
    "    print('Columns name:', col)\n",
    "    plt.boxplot(drop_value[col])\n",
    "    plt.show()"
   ]
  },
  {
   "cell_type": "code",
   "execution_count": 10,
   "metadata": {},
   "outputs": [],
   "source": [
    "# 刪除空值後盒型圖都可以正常顯示，確實是因為有空值的影響\n",
    "# 再從上面的圖檢查的結果，蠻多欄位都有outliers，挑出這三個欄位觀察\n",
    "\n",
    "# AMT_INCOME_TOTAL\n",
    "# REGION_POPULATION_RELATIVE\n",
    "# OBS_60_CNT_SOCIAL_CIRCLE"
   ]
  },
  {
   "cell_type": "code",
   "execution_count": 11,
   "metadata": {},
   "outputs": [
    {
     "name": "stdout",
     "output_type": "stream",
     "text": [
      "count    3.075110e+05\n",
      "mean     1.687979e+05\n",
      "std      2.371231e+05\n",
      "min      2.565000e+04\n",
      "25%      1.125000e+05\n",
      "50%      1.471500e+05\n",
      "75%      2.025000e+05\n",
      "max      1.170000e+08\n",
      "Name: AMT_INCOME_TOTAL, dtype: float64\n"
     ]
    }
   ],
   "source": [
    "# 最大值離平均與中位數很遠\n",
    "print(app_train['AMT_INCOME_TOTAL'].describe())"
   ]
  },
  {
   "cell_type": "code",
   "execution_count": 66,
   "metadata": {},
   "outputs": [
    {
     "data": {
      "image/png": "[encoded data removed]",
      "text/plain": [
       "<Figure size 432x288 with 1 Axes>"
      ]
     },
     "metadata": {
      "needs_background": "light"
     },
     "output_type": "display_data"
    },
    {
     "data": {
      "image/png": "[encoded data removed]",
      "text/plain": [
       "<Figure size 432x288 with 1 Axes>"
      ]
     },
     "metadata": {
      "needs_background": "light"
     },
     "output_type": "display_data"
    }
   ],
   "source": [
    "# 繪製 Empirical Cumulative Density Plot (ECDF)\n",
    "\"\"\"\n",
    "YOUR CODE HERE\n",
    "\"\"\"\n",
    "cdf = np.sort(app_train['AMT_INCOME_TOTAL'])\n",
    "\n",
    "plt.plot(cdf, np.arange(1, len(cdf)+1) / len(cdf))\n",
    "plt.xlabel('Value')\n",
    "plt.ylabel('ECDF')\n",
    "plt.xlim([cdf.min()-1000000, cdf.max() * 1.05]) # 限制顯示圖片的範圍\n",
    "plt.ylim([-0.05,1.05]) # 限制顯示圖片的範圍\n",
    "\n",
    "plt.show()\n",
    "\n",
    "# 改變 y 軸的 Scale, 讓我們可以正常檢視 ECDF\n",
    "plt.plot(np.log(cdf), np.arange(1, len(cdf)+1) / len(cdf))\n",
    "plt.xlabel('Value (log-scale)')\n",
    "plt.ylabel('ECDF')\n",
    "\n",
    "plt.ylim([-0.05,1.05]) # 限制顯示圖片的範圍\n",
    "\n",
    "plt.show()"
   ]
  },
  {
   "cell_type": "code",
   "execution_count": 58,
   "metadata": {},
   "outputs": [],
   "source": [
    "# 看以上的圖發現最大值離平均數很遠"
   ]
  },
  {
   "cell_type": "code",
   "execution_count": 67,
   "metadata": {},
   "outputs": [
    {
     "name": "stdout",
     "output_type": "stream",
     "text": [
      "count    307511.000000\n",
      "mean          0.020868\n",
      "std           0.013831\n",
      "min           0.000290\n",
      "25%           0.010006\n",
      "50%           0.018850\n",
      "75%           0.028663\n",
      "max           0.072508\n",
      "Name: REGION_POPULATION_RELATIVE, dtype: float64\n"
     ]
    },
    {
     "data": {
      "image/png": "[encoded data removed]",
      "text/plain": [
       "<Figure size 432x288 with 1 Axes>"
      ]
     },
     "metadata": {
      "needs_background": "light"
     },
     "output_type": "display_data"
    },
    {
     "data": {
      "image/png": "[encoded data removed]",
      "text/plain": [
       "<Figure size 432x288 with 1 Axes>"
      ]
     },
     "metadata": {
      "needs_background": "light"
     },
     "output_type": "display_data"
    },
    {
     "data": {
      "text/plain": [
       "0.035792    16408\n",
       "0.046220    13442\n",
       "0.030755    12163\n",
       "0.025164    11950\n",
       "0.026392    11601\n",
       "0.031329    11321\n",
       "0.028663    11157\n",
       "0.019101     8694\n",
       "0.072508     8412\n",
       "0.020713     8066\n",
       "0.018850     7668\n",
       "0.020246     7178\n",
       "0.018634     7038\n",
       "0.022625     6943\n",
       "0.015221     6824\n",
       "0.032561     6636\n",
       "0.024610     6404\n",
       "0.019689     6172\n",
       "0.018029     6167\n",
       "0.018801     6108\n",
       "0.018209     6052\n",
       "0.014520     4785\n",
       "0.016612     4408\n",
       "0.007020     4105\n",
       "0.022800     3807\n",
       "0.010032     3570\n",
       "0.010006     3563\n",
       "0.014464     3422\n",
       "0.004960     3300\n",
       "0.011703     3252\n",
       "            ...  \n",
       "0.006008     1796\n",
       "0.003069     1783\n",
       "0.008575     1763\n",
       "0.008474     1740\n",
       "0.007274     1724\n",
       "0.007114     1684\n",
       "0.006305     1672\n",
       "0.008068     1668\n",
       "0.008866     1654\n",
       "0.006671     1653\n",
       "0.002042     1642\n",
       "0.003813     1616\n",
       "0.005084     1482\n",
       "0.006296     1225\n",
       "0.005313     1218\n",
       "0.003818     1212\n",
       "0.003122     1147\n",
       "0.006233     1087\n",
       "0.005002     1068\n",
       "0.002134     1051\n",
       "0.004849     1038\n",
       "0.005144      967\n",
       "0.002506      944\n",
       "0.003541      627\n",
       "0.001276      558\n",
       "0.001417      467\n",
       "0.001333      235\n",
       "0.000533       39\n",
       "0.000938       28\n",
       "0.000290        2\n",
       "Name: REGION_POPULATION_RELATIVE, Length: 81, dtype: int64"
      ]
     },
     "execution_count": 67,
     "metadata": {},
     "output_type": "execute_result"
    }
   ],
   "source": [
    "# 最大值落在分布之外\n",
    "print(app_train['REGION_POPULATION_RELATIVE'].describe())\n",
    "\n",
    "# 繪製 Empirical Cumulative Density Plot (ECDF)\n",
    "\"\"\"\n",
    "Your Code Here\n",
    "\"\"\"\n",
    "cdf = np.sort(app_train['REGION_POPULATION_RELATIVE'])\n",
    "\n",
    "\n",
    "plt.plot(cdf, np.arange(1, len(cdf) + 1) / len(cdf))\n",
    "plt.xlabel('Value')\n",
    "plt.ylabel('ECDF')\n",
    "plt.ylim([-0.05,1.05]) # 限制顯示圖片的範圍\n",
    "plt.show()\n",
    "\n",
    "app_train['REGION_POPULATION_RELATIVE'].hist()\n",
    "plt.show()\n",
    "\n",
    "app_train['REGION_POPULATION_RELATIVE'].value_counts()\n",
    "\n",
    "# 就以這個欄位來說，雖然有資料掉在分布以外，也不算異常，僅代表這間公司在稍微熱鬧的地區有的據點較少，\n",
    "# 導致 region population relative 在少的部分較為密集，但在大的部分較為疏漏"
   ]
  },
  {
   "cell_type": "code",
   "execution_count": 69,
   "metadata": {},
   "outputs": [
    {
     "name": "stdout",
     "output_type": "stream",
     "text": [
      "count    11351.000000\n",
      "mean         1.326932\n",
      "std          2.193618\n",
      "min          0.000000\n",
      "25%          0.000000\n",
      "50%          0.000000\n",
      "75%          2.000000\n",
      "max         27.000000\n",
      "Name: OBS_60_CNT_SOCIAL_CIRCLE, dtype: float64\n"
     ]
    },
    {
     "data": {
      "image/png": "[encoded data removed]",
      "text/plain": [
       "<Figure size 432x288 with 1 Axes>"
      ]
     },
     "metadata": {
      "needs_background": "light"
     },
     "output_type": "display_data"
    },
    {
     "data": {
      "image/png": "[encoded data removed]",
      "text/plain": [
       "<Figure size 432x288 with 1 Axes>"
      ]
     },
     "metadata": {
      "needs_background": "light"
     },
     "output_type": "display_data"
    },
    {
     "name": "stdout",
     "output_type": "stream",
     "text": [
      "27.0       1\n",
      "21.0       1\n",
      "18.0       3\n",
      "17.0       1\n",
      "16.0       4\n",
      "15.0       9\n",
      "14.0       8\n",
      "13.0      12\n",
      "12.0      18\n",
      "11.0      30\n",
      "10.0      44\n",
      "9.0       67\n",
      "8.0       88\n",
      "7.0      148\n",
      "6.0      219\n",
      "5.0      335\n",
      "4.0      471\n",
      "3.0      730\n",
      "2.0     1072\n",
      "1.0     1940\n",
      "0.0     6150\n",
      "Name: OBS_60_CNT_SOCIAL_CIRCLE, dtype: int64\n"
     ]
    }
   ],
   "source": [
    "# 最大值落在分布之外 ，這邊使用去除遺失值得欄位處理\n",
    "print(drop_value['OBS_60_CNT_SOCIAL_CIRCLE'].describe())\n",
    "\n",
    "# 繪製 Empirical Cumulative Density Plot (ECDF)\n",
    "\"\"\"\n",
    "Your Code Here\n",
    "\"\"\"\n",
    "cdf = np.sort(drop_value['OBS_60_CNT_SOCIAL_CIRCLE'])\n",
    "\n",
    "\n",
    "plt.plot(cdf, np.arange(1, len(cdf) +1 ) / len(cdf))\n",
    "plt.xlabel('Value')\n",
    "plt.ylabel('ECDF')\n",
    "plt.xlim([cdf.min() * 0.95, cdf.max() * 1.05])\n",
    "plt.ylim([-0.05,1.05]) # 限制顯示圖片的範圍\n",
    "plt.show()\n",
    "drop_value['OBS_60_CNT_SOCIAL_CIRCLE'].hist()\n",
    "plt.show()\n",
    "print(drop_value['OBS_60_CNT_SOCIAL_CIRCLE'].value_counts().sort_index(ascending = False))"
   ]
  },
  {
   "cell_type": "code",
   "execution_count": 70,
   "metadata": {},
   "outputs": [
    {
     "data": {
      "image/png": "[encoded data removed]",
      "text/plain": [
       "<Figure size 432x288 with 1 Axes>"
      ]
     },
     "metadata": {
      "needs_background": "light"
     },
     "output_type": "display_data"
    }
   ],
   "source": [
    "# 把一些極端值暫時去掉，在繪製一次 Histogram\n",
    "# 選擇 OBS_60_CNT_SOCIAL_CIRCLE 小於 20 的資料點繪製\n",
    "\"\"\"\n",
    "Your Code Here\n",
    "\"\"\"\n",
    "mask = drop_value['OBS_60_CNT_SOCIAL_CIRCLE'] < 20\n",
    "drop_value['OBS_60_CNT_SOCIAL_CIRCLE'][mask].hist()\n",
    "plt.show()"
   ]
  }
 ],
 "metadata": {
  "kernelspec": {
   "display_name": "Python 3",
   "language": "python",
   "name": "python3"
  },
  "language_info": {
   "codemirror_mode": {
    "name": "ipython",
    "version": 3
   },
   "file_extension": ".py",
   "mimetype": "text/x-python",
   "name": "python",
   "nbconvert_exporter": "python",
   "pygments_lexer": "ipython3",
   "version": "3.6.6"
  }
 },
 "nbformat": 4,
 "nbformat_minor": 2
}
