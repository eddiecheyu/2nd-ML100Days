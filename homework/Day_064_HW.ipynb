{
 "cells": [
  {
   "cell_type": "markdown",
   "metadata": {},
   "source": [
    "# 機器學習百日馬拉松Day64"
   ]
  },
  {
   "cell_type": "markdown",
   "metadata": {},
   "source": [
    "# 作業\n",
    "* 選擇迴歸資料集(右) - 交錯六群，在其他參數保持預設值的情況下，只允許調整隱藏層層數與神經元數量，且遵守下列限制   \n",
    "> * 隱藏層神經元總數最多 8 個 (即 : 可以單層 8 個，或兩層 5 個與 3 個)   \n",
    "> * 遞迴次數只允許跑到500次  \n",
    "* 在上述限制下，挑戰看看測試誤差 (Test Loss) 最低能到多少? 請回答你的神經元參數與 Test Loss 數"
   ]
  },
  {
   "cell_type": "markdown",
   "metadata": {
    "collapsed": true
   },
   "source": []
  },
  {
   "cell_type": "markdown",
   "metadata": {},
   "source": [
    "Test1\n",
    "\n",
    "test loss：0.018\n",
    "\n",
    "神經元個數：第一層4個第二層2個\n",
    "\n",
    "特徵：2個\n",
    "\n",
    "Learning Rate：0.03\n",
    "\n",
    "------------------"
   ]
  },
  {
   "cell_type": "markdown",
   "metadata": {},
   "source": [
    "Test2\n",
    "\n",
    "test loss：0.021\n",
    "\n",
    "神經元個數：第一層5個第二層3個\n",
    "\n",
    "特徵：3個\n",
    "\n",
    "Learning Rate：0.03\n",
    "\n",
    "------------------"
   ]
  },
  {
   "cell_type": "markdown",
   "metadata": {},
   "source": [
    "Test3\n",
    "\n",
    "test loss：0.016\n",
    "\n",
    "神經元個數：第一層6個第二層2個\n",
    "\n",
    "特徵：2個\n",
    "\n",
    "Learning Rate：0.03\n",
    "\n",
    "------------------"
   ]
  },
  {
   "cell_type": "markdown",
   "metadata": {},
   "source": [
    "Test4\n",
    "\n",
    "test loss：0.009\n",
    "\n",
    "神經元個數：第一層6個第二層2個\n",
    "\n",
    "特徵：5個\n",
    "\n",
    "Learning Rate：0.03\n"
   ]
  }
 ],
 "metadata": {
  "kernelspec": {
   "display_name": "Python 3",
   "language": "python",
   "name": "python3"
  },
  "language_info": {
   "codemirror_mode": {
    "name": "ipython",
    "version": 3
   },
   "file_extension": ".py",
   "mimetype": "text/x-python",
   "name": "python",
   "nbconvert_exporter": "python",
   "pygments_lexer": "ipython3",
   "version": "3.6.8"
  }
 },
 "nbformat": 4,
 "nbformat_minor": 2
}
